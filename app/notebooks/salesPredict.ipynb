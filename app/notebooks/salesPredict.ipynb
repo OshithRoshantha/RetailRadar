{
 "cells": [
  {
   "cell_type": "code",
   "execution_count": 2,
   "metadata": {},
   "outputs": [],
   "source": [
    "from pyspark.sql import SparkSession\n",
    "from pyspark.sql import functions as F"
   ]
  },
  {
   "cell_type": "code",
   "execution_count": 3,
   "metadata": {},
   "outputs": [],
   "source": [
    "spark = SparkSession.builder.appName('sales').getOrCreate()"
   ]
  },
  {
   "cell_type": "code",
   "execution_count": 4,
   "metadata": {},
   "outputs": [
    {
     "name": "stdout",
     "output_type": "stream",
     "text": [
      "+--------------+-----------+-------------------+---------+---+------+------+----------------+----------+----+---------+--------+---------------+---------+------------+----------------+------------+---------------+--------------+------------+-------+\n",
      "|Transaction_ID|Customer_ID|               City|  Country|Age|Gender|Income|Customer_Segment|      Date|Year|    Month|    Time|Total_Purchases|   Amount|Total_Amount|Product_Category|Product_Type|Shipping_Method|Payment_Method|Order_Status|Ratings|\n",
      "+--------------+-----------+-------------------+---------+---+------+------+----------------+----------+----+---------+--------+---------------+---------+------------+----------------+------------+---------------+--------------+------------+-------+\n",
      "|       1000043|      91680|         Fort Worth|      USA| 19|  Male|   Low|             New|2023-11-23|2023| November| 8:23:26|             10|285.67474|   2856.7476|     Electronics|  Smartphone|       Same-Day|        PayPal|   Delivered|      4|\n",
      "|       1000593|      50458|            Bendigo|Australia| 46|  Male|  High|             New|2023-08-20|2023|   August|14:41:13|              4| 35.53774|   142.15096|      Home Decor|   Furniture|       Same-Day|        PayPal|     Shipped|      5|\n",
      "|       1000596|      61173|         Manchester|       UK| 70|  Male|Medium|         Regular|2023-03-29|2023|    March| 3:02:21|              6|11.047317|     66.2839|      Home Decor|       Tools|       Standard|    Debit Card|   Delivered|      2|\n",
      "|       1000831|      96401|             Mackay|Australia| 20|  Male|   Low|             New|2003-01-23|2023|    March|20:40:26|              2| 58.49707|   116.99414|        Clothing|       Shirt|       Same-Day|   Credit Card|   Delivered|      1|\n",
      "|       1000920|      39799|          Frankfurt|  Germany| 22|  Male|Medium|         Regular|2023-04-16|2023|    April| 1:42:26|              5|46.615414|   233.07706|      Home Decor| Decorations|       Standard|   Credit Card|   Delivered|      1|\n",
      "|       1000986|      89655|            Toronto|   Canada| 36|  Male|  High|         Premium|2023-08-26|2023|   August| 7:40:46|              8|11.351654|    90.81323|     Electronics|  Television|       Same-Day|   Credit Card|  Processing|      5|\n",
      "|       1001000|      33717|       Philadelphia|      USA| 35|Female|  High|         Regular|2012-06-23|2023| December| 4:56:51|              4|196.59247|    786.3699|      Home Decor|   Furniture|       Same-Day|          Cash|   Delivered|      2|\n",
      "|       1001061|      82482|          Frankfurt|  Germany| 22|  Male|Medium|         Regular|2024-01-29|2024|  January|12:54:42|              6| 42.30735|    253.8441|           Books|  Children's|        Express|   Credit Card|   Delivered|      2|\n",
      "|       1001124|      26532|            Bristol|       UK| 26|  Male|   Low|         Regular|2023-10-19|2023|  January|12:11:46|              9|30.121069|   271.08963|     Electronics|      Fridge|       Same-Day|        PayPal|   Delivered|      4|\n",
      "|       1001126|      87037|          Frankfurt|  Germany| 24|Female|   Low|             New|2023-05-23|2023|      May|13:18:01|              9|41.272427|   371.45184|      Home Decor|     Kitchen|       Standard|    Debit Card|   Delivered|      1|\n",
      "|       1001176|      86614|           Edmonton|   Canada| 60|Female|  High|         Premium|2007-12-23|2023|     July|22:38:16|              9|397.16098|    3574.449|     Electronics|      Tablet|       Standard|        PayPal|     Pending|      5|\n",
      "|       1001602|      79403|             Boston|      USA| 23|  Male|  High|         Regular|2023-07-31|2023|     July|17:25:41|             10| 214.5452|    2145.452|     Electronics|      Tablet|        Express|          Cash|     Shipped|      4|\n",
      "|       1001637|      42502|            Chicago|      USA| 34|Female|   Low|             New|2007-10-23|2023|     July|17:26:27|              6|489.96204|   2939.7722|     Electronics|      Tablet|        Express|   Credit Card|   Delivered|      4|\n",
      "|       1001788|      27727|          Melbourne|Australia| 39|  Male|Medium|         Premium|2010-11-23|2023|      May|19:24:58|              7|131.40099|    919.8069|           Books| Non-Fiction|       Same-Day|        PayPal|     Shipped|      4|\n",
      "|       1002001|      96683|Newcastle upon Tyne|       UK| 20|  Male|  High|             New|2023-09-17|2023|September| 0:57:09|              9|264.93164|   2384.3848|           Books|     Fiction|       Standard|          Cash|     Pending|      1|\n",
      "|       1002717|      39198|         Portsmouth|       UK| 19|  Male|Medium|         Regular|2023-03-16|2023|    March| 6:19:06|              5|431.46738|    2157.337|      Home Decor|    Lighting|       Same-Day|        PayPal|   Delivered|      3|\n",
      "|       1003009|      25829|            Bendigo|Australia| 26|  Male|   Low|         Regular|2024-02-17|2024|  January| 0:53:03|              4|12.069369|   48.277477|     Electronics|      Fridge|       Standard|   Credit Card|   Delivered|      4|\n",
      "|       1003037|      49998|         Portsmouth|       UK| 21|Female|Medium|         Regular|2010-12-23|2023|  October|17:35:06|              9|128.80405|   1159.2363|           Books|  Literature|       Standard|          Cash|  Processing|      2|\n",
      "|       1003129|      69104|           Canberra|Australia| 34|Female|Medium|         Regular|2023-05-29|2023|      May|18:01:53|             10|384.14456|   3841.4456|         Grocery|       Water|       Same-Day|        PayPal|     Shipped|      3|\n",
      "|       1003285|      24195|            Windsor|   Canada| 26|  Male|   Low|         Regular|2023-05-29|2023|  January|20:24:55|              9|125.15536|   1126.3982|     Electronics|      Fridge|       Same-Day|   Credit Card|   Delivered|      3|\n",
      "+--------------+-----------+-------------------+---------+---+------+------+----------------+----------+----+---------+--------+---------------+---------+------------+----------------+------------+---------------+--------------+------------+-------+\n",
      "only showing top 20 rows\n",
      "\n"
     ]
    }
   ],
   "source": [
    "df = spark.read.parquet(\"../../data/processed/cleanedData.parquet\")\n",
    "df.show()"
   ]
  },
  {
   "cell_type": "code",
   "execution_count": null,
   "metadata": {},
   "outputs": [],
   "source": [
    "groupedDf = df.groupBy('Date').agg(F.sum(F.col('Total_Amount')).alias('Total_Sales')).orderBy('Date')\n",
    "minDate, maxDate = df.select(F.min(\"Date\"), F.max(\"Date\")).first()\n",
    "newDf = spark.range(0, (maxDate - minDate).days + 1).withColumn(\"Date\", F.date_add(F.lit(minDate), F.col(\"id\").cast(\"int\"))).drop(\"id\")\n",
    "resultDf = newDf.join(groupedDf, on=\"Date\", how=\"left\")\n",
    "resultDf = resultDf.fillna(0, subset=[\"Total_Sales\"])\n",
    "orderedDf = resultDf.orderBy(\"Date\")"
   ]
  },
  {
   "cell_type": "code",
   "execution_count": 6,
   "metadata": {},
   "outputs": [],
   "source": [
    "import numpy as np\n",
    "import pandas as pd\n",
    "from sklearn.preprocessing import MinMaxScaler\n",
    "from tensorflow.keras.models import Sequential\n",
    "from tensorflow.keras.layers import LSTM, Dense, ReLU\n",
    "from datetime import timedelta\n",
    "\n",
    "pandas_df = orderedDf.toPandas()\n",
    "\n",
    "# Normalize the 'Total_Sales' column\n",
    "scaler = MinMaxScaler(feature_range=(0, 1))\n",
    "pandas_df['Total_Sales'] = scaler.fit_transform(pandas_df[['Total_Sales']])\n",
    "\n",
    "# Prepare the time series data\n",
    "def create_sequences(data, seq_length, pred_length):\n",
    "    X, y = [], []\n",
    "    for i in range(len(data) - seq_length - pred_length):\n",
    "        X.append(data[i:i + seq_length])\n",
    "        y.append(data[i + seq_length:i + seq_length + pred_length])\n",
    "    return np.array(X), np.array(y)\n",
    "\n",
    "# Define sequence length and prediction length\n",
    "seq_length = 30  # Use the last 30 days to predict the next 6 months\n",
    "pred_length = 180  # 6 months * 30 days/month\n",
    "\n",
    "# Create sequences\n",
    "X, y = create_sequences(pandas_df['Total_Sales'].values, seq_length, pred_length)\n",
    "\n",
    "# Split into training and testing sets\n",
    "train_size = int(len(X) * 0.8)\n",
    "X_train, X_test = X[:train_size], X[train_size:]\n",
    "y_train, y_test = y[:train_size], y[train_size:]\n",
    "\n",
    "# Reshape X to be compatible with LSTM input (samples, timesteps, features)\n",
    "X_train = X_train.reshape((X_train.shape[0], X_train.shape[1], 1))\n",
    "X_test = X_test.reshape((X_test.shape[0], X_test.shape[1], 1))"
   ]
  },
  {
   "cell_type": "code",
   "execution_count": null,
   "metadata": {},
   "outputs": [
    {
     "name": "stderr",
     "output_type": "stream",
     "text": [
      "d:\\academic\\Spark\\RetailRadar\\.venv\\Lib\\site-packages\\keras\\src\\layers\\rnn\\rnn.py:200: UserWarning: Do not pass an `input_shape`/`input_dim` argument to a layer. When using Sequential models, prefer using an `Input(shape)` object as the first layer in the model instead.\n",
      "  super().__init__(**kwargs)\n"
     ]
    },
    {
     "name": "stdout",
     "output_type": "stream",
     "text": [
      "Epoch 1/50\n",
      "\u001b[1m103/103\u001b[0m \u001b[32m━━━━━━━━━━━━━━━━━━━━\u001b[0m\u001b[37m\u001b[0m \u001b[1m6s\u001b[0m 31ms/step - loss: 0.0157 - val_loss: 0.0631\n",
      "Epoch 2/50\n",
      "\u001b[1m103/103\u001b[0m \u001b[32m━━━━━━━━━━━━━━━━━━━━\u001b[0m\u001b[37m\u001b[0m \u001b[1m2s\u001b[0m 21ms/step - loss: 0.0144 - val_loss: 0.0629\n",
      "Epoch 3/50\n",
      "\u001b[1m103/103\u001b[0m \u001b[32m━━━━━━━━━━━━━━━━━━━━\u001b[0m\u001b[37m\u001b[0m \u001b[1m2s\u001b[0m 21ms/step - loss: 0.0134 - val_loss: 0.0665\n",
      "Epoch 4/50\n",
      "\u001b[1m103/103\u001b[0m \u001b[32m━━━━━━━━━━━━━━━━━━━━\u001b[0m\u001b[37m\u001b[0m \u001b[1m2s\u001b[0m 21ms/step - loss: 0.0132 - val_loss: 0.0670\n",
      "Epoch 5/50\n",
      "\u001b[1m103/103\u001b[0m \u001b[32m━━━━━━━━━━━━━━━━━━━━\u001b[0m\u001b[37m\u001b[0m \u001b[1m2s\u001b[0m 21ms/step - loss: 0.0129 - val_loss: 0.0678\n",
      "Epoch 6/50\n",
      "\u001b[1m103/103\u001b[0m \u001b[32m━━━━━━━━━━━━━━━━━━━━\u001b[0m\u001b[37m\u001b[0m \u001b[1m3s\u001b[0m 25ms/step - loss: 0.0129 - val_loss: 0.0677\n",
      "Epoch 7/50\n",
      "\u001b[1m103/103\u001b[0m \u001b[32m━━━━━━━━━━━━━━━━━━━━\u001b[0m\u001b[37m\u001b[0m \u001b[1m2s\u001b[0m 23ms/step - loss: 0.0126 - val_loss: 0.0681\n",
      "Epoch 8/50\n",
      "\u001b[1m103/103\u001b[0m \u001b[32m━━━━━━━━━━━━━━━━━━━━\u001b[0m\u001b[37m\u001b[0m \u001b[1m2s\u001b[0m 22ms/step - loss: 0.0126 - val_loss: 0.0681\n",
      "Epoch 9/50\n",
      "\u001b[1m103/103\u001b[0m \u001b[32m━━━━━━━━━━━━━━━━━━━━\u001b[0m\u001b[37m\u001b[0m \u001b[1m3s\u001b[0m 25ms/step - loss: 0.0124 - val_loss: 0.0682\n",
      "Epoch 10/50\n",
      "\u001b[1m103/103\u001b[0m \u001b[32m━━━━━━━━━━━━━━━━━━━━\u001b[0m\u001b[37m\u001b[0m \u001b[1m3s\u001b[0m 25ms/step - loss: 0.0123 - val_loss: 0.0682\n",
      "Epoch 11/50\n",
      "\u001b[1m103/103\u001b[0m \u001b[32m━━━━━━━━━━━━━━━━━━━━\u001b[0m\u001b[37m\u001b[0m \u001b[1m3s\u001b[0m 25ms/step - loss: 0.0123 - val_loss: 0.0679\n",
      "Epoch 12/50\n",
      "\u001b[1m103/103\u001b[0m \u001b[32m━━━━━━━━━━━━━━━━━━━━\u001b[0m\u001b[37m\u001b[0m \u001b[1m2s\u001b[0m 24ms/step - loss: 0.0122 - val_loss: 0.0678\n",
      "Epoch 13/50\n",
      "\u001b[1m103/103\u001b[0m \u001b[32m━━━━━━━━━━━━━━━━━━━━\u001b[0m\u001b[37m\u001b[0m \u001b[1m2s\u001b[0m 21ms/step - loss: 0.0121 - val_loss: 0.0674\n",
      "Epoch 14/50\n",
      "\u001b[1m103/103\u001b[0m \u001b[32m━━━━━━━━━━━━━━━━━━━━\u001b[0m\u001b[37m\u001b[0m \u001b[1m2s\u001b[0m 22ms/step - loss: 0.0120 - val_loss: 0.0668\n",
      "Epoch 15/50\n",
      "\u001b[1m103/103\u001b[0m \u001b[32m━━━━━━━━━━━━━━━━━━━━\u001b[0m\u001b[37m\u001b[0m \u001b[1m2s\u001b[0m 22ms/step - loss: 0.0121 - val_loss: 0.0663\n",
      "Epoch 16/50\n",
      "\u001b[1m103/103\u001b[0m \u001b[32m━━━━━━━━━━━━━━━━━━━━\u001b[0m\u001b[37m\u001b[0m \u001b[1m2s\u001b[0m 22ms/step - loss: 0.0123 - val_loss: 0.0658\n",
      "Epoch 17/50\n",
      "\u001b[1m103/103\u001b[0m \u001b[32m━━━━━━━━━━━━━━━━━━━━\u001b[0m\u001b[37m\u001b[0m \u001b[1m2s\u001b[0m 22ms/step - loss: 0.0122 - val_loss: 0.0651\n",
      "Epoch 18/50\n",
      "\u001b[1m103/103\u001b[0m \u001b[32m━━━━━━━━━━━━━━━━━━━━\u001b[0m\u001b[37m\u001b[0m \u001b[1m2s\u001b[0m 22ms/step - loss: 0.0118 - val_loss: 0.0650\n",
      "Epoch 19/50\n",
      "\u001b[1m103/103\u001b[0m \u001b[32m━━━━━━━━━━━━━━━━━━━━\u001b[0m\u001b[37m\u001b[0m \u001b[1m2s\u001b[0m 22ms/step - loss: 0.0119 - val_loss: 0.0647\n",
      "Epoch 20/50\n",
      "\u001b[1m103/103\u001b[0m \u001b[32m━━━━━━━━━━━━━━━━━━━━\u001b[0m\u001b[37m\u001b[0m \u001b[1m2s\u001b[0m 22ms/step - loss: 0.0118 - val_loss: 0.0646\n",
      "Epoch 21/50\n",
      "\u001b[1m103/103\u001b[0m \u001b[32m━━━━━━━━━━━━━━━━━━━━\u001b[0m\u001b[37m\u001b[0m \u001b[1m2s\u001b[0m 23ms/step - loss: 0.0117 - val_loss: 0.0644\n",
      "Epoch 22/50\n",
      "\u001b[1m103/103\u001b[0m \u001b[32m━━━━━━━━━━━━━━━━━━━━\u001b[0m\u001b[37m\u001b[0m \u001b[1m2s\u001b[0m 23ms/step - loss: 0.0119 - val_loss: 0.0645\n",
      "Epoch 23/50\n",
      "\u001b[1m103/103\u001b[0m \u001b[32m━━━━━━━━━━━━━━━━━━━━\u001b[0m\u001b[37m\u001b[0m \u001b[1m2s\u001b[0m 22ms/step - loss: 0.0118 - val_loss: 0.0643\n",
      "Epoch 24/50\n",
      "\u001b[1m103/103\u001b[0m \u001b[32m━━━━━━━━━━━━━━━━━━━━\u001b[0m\u001b[37m\u001b[0m \u001b[1m2s\u001b[0m 22ms/step - loss: 0.0115 - val_loss: 0.0641\n",
      "Epoch 25/50\n",
      "\u001b[1m103/103\u001b[0m \u001b[32m━━━━━━━━━━━━━━━━━━━━\u001b[0m\u001b[37m\u001b[0m \u001b[1m2s\u001b[0m 23ms/step - loss: 0.0116 - val_loss: 0.0638\n",
      "Epoch 26/50\n",
      "\u001b[1m103/103\u001b[0m \u001b[32m━━━━━━━━━━━━━━━━━━━━\u001b[0m\u001b[37m\u001b[0m \u001b[1m2s\u001b[0m 22ms/step - loss: 0.0116 - val_loss: 0.0635\n",
      "Epoch 27/50\n",
      "\u001b[1m103/103\u001b[0m \u001b[32m━━━━━━━━━━━━━━━━━━━━\u001b[0m\u001b[37m\u001b[0m \u001b[1m2s\u001b[0m 23ms/step - loss: 0.0114 - val_loss: 0.0633\n",
      "Epoch 28/50\n",
      "\u001b[1m103/103\u001b[0m \u001b[32m━━━━━━━━━━━━━━━━━━━━\u001b[0m\u001b[37m\u001b[0m \u001b[1m2s\u001b[0m 22ms/step - loss: 0.0116 - val_loss: 0.0639\n",
      "Epoch 29/50\n",
      "\u001b[1m103/103\u001b[0m \u001b[32m━━━━━━━━━━━━━━━━━━━━\u001b[0m\u001b[37m\u001b[0m \u001b[1m2s\u001b[0m 22ms/step - loss: 0.0114 - val_loss: 0.0638\n",
      "Epoch 30/50\n",
      "\u001b[1m103/103\u001b[0m \u001b[32m━━━━━━━━━━━━━━━━━━━━\u001b[0m\u001b[37m\u001b[0m \u001b[1m2s\u001b[0m 22ms/step - loss: 0.0116 - val_loss: 0.0627\n",
      "Epoch 31/50\n",
      "\u001b[1m103/103\u001b[0m \u001b[32m━━━━━━━━━━━━━━━━━━━━\u001b[0m\u001b[37m\u001b[0m \u001b[1m2s\u001b[0m 22ms/step - loss: 0.0117 - val_loss: 0.0628\n",
      "Epoch 32/50\n",
      "\u001b[1m103/103\u001b[0m \u001b[32m━━━━━━━━━━━━━━━━━━━━\u001b[0m\u001b[37m\u001b[0m \u001b[1m2s\u001b[0m 22ms/step - loss: 0.0115 - val_loss: 0.0632\n",
      "Epoch 33/50\n",
      "\u001b[1m103/103\u001b[0m \u001b[32m━━━━━━━━━━━━━━━━━━━━\u001b[0m\u001b[37m\u001b[0m \u001b[1m2s\u001b[0m 22ms/step - loss: 0.0116 - val_loss: 0.0631\n",
      "Epoch 34/50\n",
      "\u001b[1m103/103\u001b[0m \u001b[32m━━━━━━━━━━━━━━━━━━━━\u001b[0m\u001b[37m\u001b[0m \u001b[1m2s\u001b[0m 22ms/step - loss: 0.0113 - val_loss: 0.0634\n",
      "Epoch 35/50\n",
      "\u001b[1m103/103\u001b[0m \u001b[32m━━━━━━━━━━━━━━━━━━━━\u001b[0m\u001b[37m\u001b[0m \u001b[1m2s\u001b[0m 22ms/step - loss: 0.0116 - val_loss: 0.0635\n",
      "Epoch 36/50\n",
      "\u001b[1m103/103\u001b[0m \u001b[32m━━━━━━━━━━━━━━━━━━━━\u001b[0m\u001b[37m\u001b[0m \u001b[1m2s\u001b[0m 22ms/step - loss: 0.0113 - val_loss: 0.0632\n",
      "Epoch 37/50\n",
      "\u001b[1m103/103\u001b[0m \u001b[32m━━━━━━━━━━━━━━━━━━━━\u001b[0m\u001b[37m\u001b[0m \u001b[1m2s\u001b[0m 22ms/step - loss: 0.0116 - val_loss: 0.0627\n",
      "Epoch 38/50\n",
      "\u001b[1m103/103\u001b[0m \u001b[32m━━━━━━━━━━━━━━━━━━━━\u001b[0m\u001b[37m\u001b[0m \u001b[1m2s\u001b[0m 22ms/step - loss: 0.0114 - val_loss: 0.0627\n",
      "Epoch 39/50\n",
      "\u001b[1m103/103\u001b[0m \u001b[32m━━━━━━━━━━━━━━━━━━━━\u001b[0m\u001b[37m\u001b[0m \u001b[1m2s\u001b[0m 23ms/step - loss: 0.0115 - val_loss: 0.0628\n",
      "Epoch 40/50\n",
      "\u001b[1m103/103\u001b[0m \u001b[32m━━━━━━━━━━━━━━━━━━━━\u001b[0m\u001b[37m\u001b[0m \u001b[1m2s\u001b[0m 22ms/step - loss: 0.0114 - val_loss: 0.0623\n",
      "Epoch 41/50\n",
      "\u001b[1m103/103\u001b[0m \u001b[32m━━━━━━━━━━━━━━━━━━━━\u001b[0m\u001b[37m\u001b[0m \u001b[1m2s\u001b[0m 23ms/step - loss: 0.0111 - val_loss: 0.0624\n",
      "Epoch 42/50\n",
      "\u001b[1m103/103\u001b[0m \u001b[32m━━━━━━━━━━━━━━━━━━━━\u001b[0m\u001b[37m\u001b[0m \u001b[1m2s\u001b[0m 23ms/step - loss: 0.0114 - val_loss: 0.0629\n",
      "Epoch 43/50\n",
      "\u001b[1m103/103\u001b[0m \u001b[32m━━━━━━━━━━━━━━━━━━━━\u001b[0m\u001b[37m\u001b[0m \u001b[1m2s\u001b[0m 23ms/step - loss: 0.0116 - val_loss: 0.0625\n",
      "Epoch 44/50\n",
      "\u001b[1m103/103\u001b[0m \u001b[32m━━━━━━━━━━━━━━━━━━━━\u001b[0m\u001b[37m\u001b[0m \u001b[1m2s\u001b[0m 22ms/step - loss: 0.0114 - val_loss: 0.0629\n",
      "Epoch 45/50\n",
      "\u001b[1m103/103\u001b[0m \u001b[32m━━━━━━━━━━━━━━━━━━━━\u001b[0m\u001b[37m\u001b[0m \u001b[1m2s\u001b[0m 22ms/step - loss: 0.0113 - val_loss: 0.0628\n",
      "Epoch 46/50\n",
      "\u001b[1m103/103\u001b[0m \u001b[32m━━━━━━━━━━━━━━━━━━━━\u001b[0m\u001b[37m\u001b[0m \u001b[1m2s\u001b[0m 22ms/step - loss: 0.0113 - val_loss: 0.0626\n",
      "Epoch 47/50\n",
      "\u001b[1m103/103\u001b[0m \u001b[32m━━━━━━━━━━━━━━━━━━━━\u001b[0m\u001b[37m\u001b[0m \u001b[1m2s\u001b[0m 22ms/step - loss: 0.0115 - val_loss: 0.0630\n",
      "Epoch 48/50\n",
      "\u001b[1m103/103\u001b[0m \u001b[32m━━━━━━━━━━━━━━━━━━━━\u001b[0m\u001b[37m\u001b[0m \u001b[1m2s\u001b[0m 23ms/step - loss: 0.0114 - val_loss: 0.0627\n",
      "Epoch 49/50\n",
      "\u001b[1m103/103\u001b[0m \u001b[32m━━━━━━━━━━━━━━━━━━━━\u001b[0m\u001b[37m\u001b[0m \u001b[1m2s\u001b[0m 24ms/step - loss: 0.0113 - val_loss: 0.0624\n",
      "Epoch 50/50\n",
      "\u001b[1m103/103\u001b[0m \u001b[32m━━━━━━━━━━━━━━━━━━━━\u001b[0m\u001b[37m\u001b[0m \u001b[1m3s\u001b[0m 24ms/step - loss: 0.0114 - val_loss: 0.0629\n"
     ]
    },
    {
     "data": {
      "text/plain": [
       "<keras.src.callbacks.history.History at 0x25787561d60>"
      ]
     },
     "execution_count": 9,
     "metadata": {},
     "output_type": "execute_result"
    }
   ],
   "source": [
    "model = Sequential()\n",
    "model.add(LSTM(50, return_sequences=True, input_shape=(30, 1)))  # First LSTM layer\n",
    "model.add(LSTM(50, return_sequences=False))  # Second LSTM layer\n",
    "model.add(Dense(180))  # Output layer to predict the next 6 months\n",
    "model.add(ReLU())  # Add ReLU activation to ensure non-negative predictions\n",
    "\n",
    "# Compile the model\n",
    "model.compile(optimizer='adam', loss='mse')\n",
    "\n",
    "# Train the model\n",
    "model.fit(X_train, y_train, epochs=50, batch_size=64, validation_data=(X_test, y_test))"
   ]
  },
  {
   "cell_type": "code",
   "execution_count": 10,
   "metadata": {},
   "outputs": [
    {
     "name": "stdout",
     "output_type": "stream",
     "text": [
      "\u001b[1m1/1\u001b[0m \u001b[32m━━━━━━━━━━━━━━━━━━━━\u001b[0m\u001b[37m\u001b[0m \u001b[1m1s\u001b[0m 1s/step\n",
      "  YearMonth  Predicted_Sales\n",
      "0   2024-03       12759434.0\n",
      "1   2024-04       15174281.0\n",
      "2   2024-05       10402098.0\n",
      "3   2024-06        6792693.5\n",
      "4   2024-07       10741728.0\n",
      "5   2024-08        5615401.0\n"
     ]
    }
   ],
   "source": [
    "last_sequence = pandas_df['Total_Sales'].values[-seq_length:].reshape((1, seq_length, 1))\n",
    "\n",
    "# Predict the next 6 months\n",
    "predicted_sales = model.predict(last_sequence)\n",
    "\n",
    "# Clip negative values to 0\n",
    "predicted_sales = np.clip(predicted_sales, 0, None)\n",
    "\n",
    "# Inverse transform the predictions to get actual sales values\n",
    "predicted_sales = scaler.inverse_transform(predicted_sales.reshape(-1, 1)).flatten()\n",
    "\n",
    "# Generate the dates for the next 6 months\n",
    "predicted_dates = [maxDate + timedelta(days=i) for i in range(1, pred_length + 1)]\n",
    "\n",
    "# Create a DataFrame for the predictions\n",
    "predictions_df = pd.DataFrame({\n",
    "    'Date': predicted_dates,\n",
    "    'Predicted_Sales': predicted_sales\n",
    "})\n",
    "\n",
    "# Convert 'Date' column to datetime\n",
    "predictions_df['Date'] = pd.to_datetime(predictions_df['Date'])\n",
    "\n",
    "# Aggregate predictions by month\n",
    "predictions_df['YearMonth'] = predictions_df['Date'].dt.to_period('M')  # Extract year-month\n",
    "monthly_predictions = predictions_df.groupby('YearMonth')['Predicted_Sales'].sum().reset_index()\n",
    "\n",
    "# Convert YearMonth back to string for better readability\n",
    "monthly_predictions['YearMonth'] = monthly_predictions['YearMonth'].astype(str)\n",
    "\n",
    "print(monthly_predictions)"
   ]
  }
 ],
 "metadata": {
  "kernelspec": {
   "display_name": ".venv",
   "language": "python",
   "name": "python3"
  },
  "language_info": {
   "codemirror_mode": {
    "name": "ipython",
    "version": 3
   },
   "file_extension": ".py",
   "mimetype": "text/x-python",
   "name": "python",
   "nbconvert_exporter": "python",
   "pygments_lexer": "ipython3",
   "version": "3.12.3"
  }
 },
 "nbformat": 4,
 "nbformat_minor": 2
}
