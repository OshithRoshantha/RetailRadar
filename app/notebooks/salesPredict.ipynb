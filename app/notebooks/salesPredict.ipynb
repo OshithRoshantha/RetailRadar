{
 "cells": [
  {
   "cell_type": "code",
   "execution_count": 9,
   "metadata": {},
   "outputs": [],
   "source": [
    "from pyspark.sql import SparkSession\n",
    "import pyspark.sql.functions as F"
   ]
  },
  {
   "cell_type": "code",
   "execution_count": 89,
   "metadata": {},
   "outputs": [],
   "source": [
    "spark = SparkSession.builder.appName('sparkApp').config(\"spark.python.worker.timeout\", \"120\") .getOrCreate()"
   ]
  },
  {
   "cell_type": "code",
   "execution_count": 95,
   "metadata": {},
   "outputs": [
    {
     "name": "stdout",
     "output_type": "stream",
     "text": [
      "33\n",
      "+--------------+-----------+-------------------+---------+---+------+------+----------------+----------+----+---------+--------+---------------+---------+------------+----------------+------------+---------------+--------------+------------+-------+\n",
      "|Transaction_ID|Customer_ID|               City|  Country|Age|Gender|Income|Customer_Segment|      Date|Year|    Month|    Time|Total_Purchases|   Amount|Total_Amount|Product_Category|Product_Type|Shipping_Method|Payment_Method|Order_Status|Ratings|\n",
      "+--------------+-----------+-------------------+---------+---+------+------+----------------+----------+----+---------+--------+---------------+---------+------------+----------------+------------+---------------+--------------+------------+-------+\n",
      "|       1000043|      91680|         Fort Worth|      USA| 19|  Male|   Low|             New|2023-11-23|2023| November| 8:23:26|             10|285.67474|   2856.7476|     Electronics|  Smartphone|       Same-Day|        PayPal|   Delivered|      4|\n",
      "|       1000593|      50458|            Bendigo|Australia| 46|  Male|  High|             New|2023-08-20|2023|   August|14:41:13|              4| 35.53774|   142.15096|      Home Decor|   Furniture|       Same-Day|        PayPal|     Shipped|      5|\n",
      "|       1000596|      61173|         Manchester|       UK| 70|  Male|Medium|         Regular|2023-03-29|2023|    March| 3:02:21|              6|11.047317|     66.2839|      Home Decor|       Tools|       Standard|    Debit Card|   Delivered|      2|\n",
      "|       1000831|      96401|             Mackay|Australia| 20|  Male|   Low|             New|2003-01-23|2023|    March|20:40:26|              2| 58.49707|   116.99414|        Clothing|       Shirt|       Same-Day|   Credit Card|   Delivered|      1|\n",
      "|       1000920|      39799|          Frankfurt|  Germany| 22|  Male|Medium|         Regular|2023-04-16|2023|    April| 1:42:26|              5|46.615414|   233.07706|      Home Decor| Decorations|       Standard|   Credit Card|   Delivered|      1|\n",
      "|       1000986|      89655|            Toronto|   Canada| 36|  Male|  High|         Premium|2023-08-26|2023|   August| 7:40:46|              8|11.351654|    90.81323|     Electronics|  Television|       Same-Day|   Credit Card|  Processing|      5|\n",
      "|       1001000|      33717|       Philadelphia|      USA| 35|Female|  High|         Regular|2012-06-23|2023| December| 4:56:51|              4|196.59247|    786.3699|      Home Decor|   Furniture|       Same-Day|          Cash|   Delivered|      2|\n",
      "|       1001061|      82482|          Frankfurt|  Germany| 22|  Male|Medium|         Regular|2024-01-29|2024|  January|12:54:42|              6| 42.30735|    253.8441|           Books|  Children's|        Express|   Credit Card|   Delivered|      2|\n",
      "|       1001124|      26532|            Bristol|       UK| 26|  Male|   Low|         Regular|2023-10-19|2023|  January|12:11:46|              9|30.121069|   271.08963|     Electronics|      Fridge|       Same-Day|        PayPal|   Delivered|      4|\n",
      "|       1001126|      87037|          Frankfurt|  Germany| 24|Female|   Low|             New|2023-05-23|2023|      May|13:18:01|              9|41.272427|   371.45184|      Home Decor|     Kitchen|       Standard|    Debit Card|   Delivered|      1|\n",
      "|       1001176|      86614|           Edmonton|   Canada| 60|Female|  High|         Premium|2007-12-23|2023|     July|22:38:16|              9|397.16098|    3574.449|     Electronics|      Tablet|       Standard|        PayPal|     Pending|      5|\n",
      "|       1001602|      79403|             Boston|      USA| 23|  Male|  High|         Regular|2023-07-31|2023|     July|17:25:41|             10| 214.5452|    2145.452|     Electronics|      Tablet|        Express|          Cash|     Shipped|      4|\n",
      "|       1001637|      42502|            Chicago|      USA| 34|Female|   Low|             New|2007-10-23|2023|     July|17:26:27|              6|489.96204|   2939.7722|     Electronics|      Tablet|        Express|   Credit Card|   Delivered|      4|\n",
      "|       1001788|      27727|          Melbourne|Australia| 39|  Male|Medium|         Premium|2010-11-23|2023|      May|19:24:58|              7|131.40099|    919.8069|           Books| Non-Fiction|       Same-Day|        PayPal|     Shipped|      4|\n",
      "|       1002001|      96683|Newcastle upon Tyne|       UK| 20|  Male|  High|             New|2023-09-17|2023|September| 0:57:09|              9|264.93164|   2384.3848|           Books|     Fiction|       Standard|          Cash|     Pending|      1|\n",
      "|       1002717|      39198|         Portsmouth|       UK| 19|  Male|Medium|         Regular|2023-03-16|2023|    March| 6:19:06|              5|431.46738|    2157.337|      Home Decor|    Lighting|       Same-Day|        PayPal|   Delivered|      3|\n",
      "|       1003009|      25829|            Bendigo|Australia| 26|  Male|   Low|         Regular|2024-02-17|2024|  January| 0:53:03|              4|12.069369|   48.277477|     Electronics|      Fridge|       Standard|   Credit Card|   Delivered|      4|\n",
      "|       1003037|      49998|         Portsmouth|       UK| 21|Female|Medium|         Regular|2010-12-23|2023|  October|17:35:06|              9|128.80405|   1159.2363|           Books|  Literature|       Standard|          Cash|  Processing|      2|\n",
      "|       1003129|      69104|           Canberra|Australia| 34|Female|Medium|         Regular|2023-05-29|2023|      May|18:01:53|             10|384.14456|   3841.4456|         Grocery|       Water|       Same-Day|        PayPal|     Shipped|      3|\n",
      "|       1003285|      24195|            Windsor|   Canada| 26|  Male|   Low|         Regular|2023-05-29|2023|  January|20:24:55|              9|125.15536|   1126.3982|     Electronics|      Fridge|       Same-Day|   Credit Card|   Delivered|      3|\n",
      "+--------------+-----------+-------------------+---------+---+------+------+----------------+----------+----+---------+--------+---------------+---------+------------+----------------+------------+---------------+--------------+------------+-------+\n",
      "only showing top 20 rows\n",
      "\n"
     ]
    }
   ],
   "source": [
    "df = spark.read.parquet(\"../../data/processed/cleanedData.parquet\")\n",
    "unique_values_df = df.select(\"Product_Type\").distinct()\n",
    "print(unique_values_df.count())\n",
    "df.show()"
   ]
  },
  {
   "cell_type": "code",
   "execution_count": 21,
   "metadata": {},
   "outputs": [
    {
     "name": "stdout",
     "output_type": "stream",
     "text": [
      "+----------------+----------+---------------+\n",
      "|Product_Category|      Date|Total_Purchases|\n",
      "+----------------+----------+---------------+\n",
      "|           Books|2001-01-24|            747|\n",
      "|        Clothing|2001-01-24|            732|\n",
      "|     Electronics|2001-01-24|           1062|\n",
      "|         Grocery|2001-01-24|            882|\n",
      "|      Home Decor|2001-01-24|            774|\n",
      "|           Books|2001-02-24|            954|\n",
      "|        Clothing|2001-02-24|            733|\n",
      "|     Electronics|2001-02-24|            982|\n",
      "|         Grocery|2001-02-24|            821|\n",
      "|      Home Decor|2001-02-24|            651|\n",
      "|           Books|2001-03-24|            840|\n",
      "|        Clothing|2001-03-24|            838|\n",
      "|     Electronics|2001-03-24|            868|\n",
      "|         Grocery|2001-03-24|            954|\n",
      "|      Home Decor|2001-03-24|            897|\n",
      "|           Books|2001-04-24|            775|\n",
      "|        Clothing|2001-04-24|            743|\n",
      "|     Electronics|2001-04-24|            949|\n",
      "|         Grocery|2001-04-24|            876|\n",
      "|      Home Decor|2001-04-24|            866|\n",
      "|           Books|2001-05-24|            773|\n",
      "|        Clothing|2001-05-24|            771|\n",
      "|     Electronics|2001-05-24|            999|\n",
      "|         Grocery|2001-05-24|            943|\n",
      "|      Home Decor|2001-05-24|            779|\n",
      "|           Books|2001-06-24|            737|\n",
      "|        Clothing|2001-06-24|            705|\n",
      "|     Electronics|2001-06-24|            989|\n",
      "|         Grocery|2001-06-24|            987|\n",
      "|      Home Decor|2001-06-24|            719|\n",
      "|           Books|2001-07-24|            766|\n",
      "|        Clothing|2001-07-24|            628|\n",
      "|     Electronics|2001-07-24|            970|\n",
      "|         Grocery|2001-07-24|            860|\n",
      "|      Home Decor|2001-07-24|            705|\n",
      "|           Books|2001-08-24|            698|\n",
      "|        Clothing|2001-08-24|            622|\n",
      "|     Electronics|2001-08-24|            921|\n",
      "|         Grocery|2001-08-24|            850|\n",
      "|      Home Decor|2001-08-24|            842|\n",
      "|           Books|2001-09-24|            724|\n",
      "|        Clothing|2001-09-24|            826|\n",
      "|     Electronics|2001-09-24|           1003|\n",
      "|         Grocery|2001-09-24|           1022|\n",
      "|      Home Decor|2001-09-24|            743|\n",
      "|           Books|2001-10-24|            854|\n",
      "|        Clothing|2001-10-24|            755|\n",
      "|     Electronics|2001-10-24|            926|\n",
      "|         Grocery|2001-10-24|           1211|\n",
      "|      Home Decor|2001-10-24|            760|\n",
      "+----------------+----------+---------------+\n",
      "only showing top 50 rows\n",
      "\n"
     ]
    }
   ],
   "source": [
    "df = df.groupBy(\"Product_Category\", \"Date\").agg(F.sum(F.col('Total_Purchases')).alias(\"Total_Purchases\")).orderBy(\"Date\", \"Product_Category\")\n",
    "df.show(50)"
   ]
  },
  {
   "cell_type": "code",
   "execution_count": 56,
   "metadata": {},
   "outputs": [],
   "source": [
    "df.createOrReplaceTempView(\"sales_data\")"
   ]
  },
  {
   "cell_type": "code",
   "execution_count": 101,
   "metadata": {},
   "outputs": [
    {
     "name": "stdout",
     "output_type": "stream",
     "text": [
      "+----------------+----------+---------------+\n",
      "|Product_Category|      Date|Total_Purchases|\n",
      "+----------------+----------+---------------+\n",
      "|         Grocery|2001-01-24|            882|\n",
      "|         Grocery|2001-01-25|              0|\n",
      "|         Grocery|2001-01-26|              0|\n",
      "|         Grocery|2001-01-27|              0|\n",
      "|         Grocery|2001-01-28|              0|\n",
      "|         Grocery|2001-01-29|              0|\n",
      "|         Grocery|2001-01-30|              0|\n",
      "|         Grocery|2001-01-31|              0|\n",
      "|         Grocery|2001-02-01|              0|\n",
      "|         Grocery|2001-02-02|              0|\n",
      "|         Grocery|2001-02-03|              0|\n",
      "|         Grocery|2001-02-04|              0|\n",
      "|         Grocery|2001-02-05|              0|\n",
      "|         Grocery|2001-02-06|              0|\n",
      "|         Grocery|2001-02-07|              0|\n",
      "|         Grocery|2001-02-08|              0|\n",
      "|         Grocery|2001-02-09|              0|\n",
      "|         Grocery|2001-02-10|              0|\n",
      "|         Grocery|2001-02-11|              0|\n",
      "|         Grocery|2001-02-12|              0|\n",
      "+----------------+----------+---------------+\n",
      "only showing top 20 rows\n",
      "\n"
     ]
    }
   ],
   "source": [
    "minMaxDates = spark.sql(\"\"\"\n",
    "    SELECT \n",
    "        Product_Category, \n",
    "        MIN(Date) AS min_date, \n",
    "        MAX(Date) AS max_date \n",
    "    FROM sales_data \n",
    "    GROUP BY Product_Category\n",
    "\"\"\")\n",
    "minMaxDates.createOrReplaceTempView(\"minMaxDates\")\n",
    "\n",
    "\n",
    "dateSeries = spark.sql(\"\"\"\n",
    "    SELECT \n",
    "        Product_Category, \n",
    "        date_add(min_date, idx) AS Date\n",
    "    FROM (\n",
    "        SELECT \n",
    "            Product_Category, \n",
    "            min_date, \n",
    "            max_date, \n",
    "            posexplode(\n",
    "                split(space(datediff(max_date, min_date)), ' ')\n",
    "            ) AS (idx, _)\n",
    "        FROM minMaxDates\n",
    "    )\n",
    "\"\"\")\n",
    "dateSeries.createOrReplaceTempView(\"dateSeries\")\n",
    "\n",
    "\n",
    "dfFilled = spark.sql(\"\"\"\n",
    "    SELECT \n",
    "        ds.Product_Category, \n",
    "        ds.Date, \n",
    "        COALESCE(sd.Total_Purchases, 0) AS Total_Purchases\n",
    "    FROM dateSeries ds\n",
    "    LEFT JOIN sales_data sd\n",
    "    ON ds.Product_Category = sd.Product_Category AND ds.Date = sd.Date\n",
    "\"\"\")\n",
    "dfFilled.createOrReplaceTempView(\"filled_data\")\n",
    "\n",
    "\n",
    "dfFilled.show()\n"
   ]
  },
  {
   "cell_type": "code",
   "execution_count": 102,
   "metadata": {},
   "outputs": [],
   "source": [
    "import pandas as pd\n",
    "from prophet import Prophet"
   ]
  },
  {
   "cell_type": "code",
   "execution_count": 103,
   "metadata": {},
   "outputs": [],
   "source": [
    "def trainProphetModel(dfFilled):\n",
    "    dfFilled['Date'] = pd.to_datetime(dfFilled['Date'])\n",
    "    models = {}\n",
    "    for category in dfFilled['Product_Category'].unique():\n",
    "        categoryData = dfFilled[dfFilled['Product_Category'] == category]\n",
    "        prophetData = categoryData[['Date', 'Total_Purchases']].rename(columns={'Date': 'ds', 'Total_Purchases': 'y'})\n",
    "        model = Prophet()\n",
    "        model.fit(prophetData)\n",
    "        models[category] = model\n",
    "    return models"
   ]
  },
  {
   "cell_type": "code",
   "execution_count": 104,
   "metadata": {},
   "outputs": [],
   "source": [
    "def predictNext30And7Days(models, dfFilled):\n",
    "    dfFilled['Date'] = pd.to_datetime(dfFilled['Date'])\n",
    "    predictions = {}\n",
    "    for category, model in models.items():\n",
    "        categoryData = dfFilled[dfFilled['Product_Category'] == category]\n",
    "        prophetData = categoryData[['Date', 'Total_Purchases']].rename(columns={'Date': 'ds', 'Total_Purchases': 'y'})\n",
    "        lastDate = prophetData['ds'].max()\n",
    "        future = model.make_future_dataframe(periods=30, include_history=False)\n",
    "        future = future[future['ds'] > lastDate]\n",
    "        forecast = model.predict(future)\n",
    "        predictions[category] = forecast[['ds', 'yhat']].assign(Product_Category=category)\n",
    "    \n",
    "    allPredictions = pd.concat(predictions.values())\n",
    "    totalSales30Days = allPredictions.groupby('Product_Category')['yhat'].sum().round().astype(int).reset_index()\n",
    "    totalSales30Days.columns = ['Product_Category', 'Total_Predicted_Sales_30Days']\n",
    "    \n",
    "    next7Days = allPredictions[allPredictions['ds'] <= (allPredictions['ds'].min() + pd.Timedelta(days=6))]\n",
    "    totalSales7Days = next7Days.groupby('Product_Category')['yhat'].sum().round().astype(int).reset_index()\n",
    "    totalSales7Days.columns = ['Product_Category', 'Total_Predicted_Sales_7Days']\n",
    "    \n",
    "    return allPredictions, totalSales30Days, totalSales7Days"
   ]
  },
  {
   "cell_type": "code",
   "execution_count": 105,
   "metadata": {},
   "outputs": [
    {
     "name": "stderr",
     "output_type": "stream",
     "text": [
      "11:46:05 - cmdstanpy - INFO - Chain [1] start processing\n",
      "11:46:06 - cmdstanpy - INFO - Chain [1] done processing\n",
      "11:46:07 - cmdstanpy - INFO - Chain [1] start processing\n",
      "11:46:09 - cmdstanpy - INFO - Chain [1] done processing\n",
      "11:46:09 - cmdstanpy - INFO - Chain [1] start processing\n",
      "11:46:10 - cmdstanpy - INFO - Chain [1] done processing\n",
      "11:46:11 - cmdstanpy - INFO - Chain [1] start processing\n",
      "11:46:12 - cmdstanpy - INFO - Chain [1] done processing\n",
      "11:46:13 - cmdstanpy - INFO - Chain [1] start processing\n",
      "11:46:14 - cmdstanpy - INFO - Chain [1] done processing\n"
     ]
    },
    {
     "name": "stdout",
     "output_type": "stream",
     "text": [
      "\n",
      "Total predicted sales for the next 30 days:\n",
      "  Product_Category  Total_Predicted_Sales_30Days\n",
      "0            Books                          9325\n",
      "1         Clothing                          9218\n",
      "2      Electronics                         12000\n",
      "3          Grocery                         11004\n",
      "4       Home Decor                          9121\n",
      "\n",
      "Total predicted sales for the next 7 days:\n",
      "  Product_Category  Total_Predicted_Sales_7Days\n",
      "0            Books                         2155\n",
      "1         Clothing                         2122\n",
      "2      Electronics                         2763\n",
      "3          Grocery                         2542\n",
      "4       Home Decor                         2103\n"
     ]
    }
   ],
   "source": [
    "dfFilled = dfFilled.toPandas()\n",
    "models = trainProphetModel(dfFilled)\n",
    "predictions, totalSales30Days, totalSales7Days = predictNext30And7Days(models, dfFilled)\n",
    "\n",
    "print(\"\\nTotal predicted sales for the next 30 days:\")\n",
    "print(totalSales30Days)\n",
    "print(\"\\nTotal predicted sales for the next 7 days:\")\n",
    "print(totalSales7Days)"
   ]
  }
 ],
 "metadata": {
  "kernelspec": {
   "display_name": ".venv",
   "language": "python",
   "name": "python3"
  },
  "language_info": {
   "codemirror_mode": {
    "name": "ipython",
    "version": 3
   },
   "file_extension": ".py",
   "mimetype": "text/x-python",
   "name": "python",
   "nbconvert_exporter": "python",
   "pygments_lexer": "ipython3",
   "version": "3.12.3"
  }
 },
 "nbformat": 4,
 "nbformat_minor": 2
}
