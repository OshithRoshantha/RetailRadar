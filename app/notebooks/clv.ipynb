{
 "cells": [
  {
   "cell_type": "code",
   "execution_count": null,
   "metadata": {},
   "outputs": [],
   "source": [
    "from pyspark.sql import SparkSession\n",
    "import pandas as pd\n",
    "import numpy as np\n",
    "import tensorflow as tf\n",
    "from tensorflow import keras\n",
    "from sklearn.model_selection import train_test_split\n",
    "from sklearn.compose import ColumnTransformer\n",
    "from sklearn.pipeline import Pipeline\n",
    "from pyspark.sql import functions as F"
   ]
  },
  {
   "cell_type": "code",
   "execution_count": 22,
   "metadata": {},
   "outputs": [],
   "source": [
    "spark = SparkSession.builder.appName('Insights').getOrCreate()"
   ]
  },
  {
   "cell_type": "code",
   "execution_count": 23,
   "metadata": {},
   "outputs": [],
   "source": [
    "df = spark.read.parquet(\"../../data/processed/cleanedData.parquet\")"
   ]
  },
  {
   "cell_type": "code",
   "execution_count": 24,
   "metadata": {},
   "outputs": [
    {
     "name": "stdout",
     "output_type": "stream",
     "text": [
      "+--------------+-----------+-------------------+---------+---+------+------+----------------+----------+----+---------+--------+---------------+---------+------------+----------------+------------+---------------+--------------+------------+-------+\n",
      "|Transaction_ID|Customer_ID|               City|  Country|Age|Gender|Income|Customer_Segment|      Date|Year|    Month|    Time|Total_Purchases|   Amount|Total_Amount|Product_Category|Product_Type|Shipping_Method|Payment_Method|Order_Status|Ratings|\n",
      "+--------------+-----------+-------------------+---------+---+------+------+----------------+----------+----+---------+--------+---------------+---------+------------+----------------+------------+---------------+--------------+------------+-------+\n",
      "|       1000043|      91680|         Fort Worth|      USA| 19|  Male|   Low|             New|2023-11-23|2023| November| 8:23:26|             10|285.67474|   2856.7476|     Electronics|  Smartphone|       Same-Day|        PayPal|   Delivered|      4|\n",
      "|       1000593|      50458|            Bendigo|Australia| 46|  Male|  High|             New|2023-08-20|2023|   August|14:41:13|              4| 35.53774|   142.15096|      Home Decor|   Furniture|       Same-Day|        PayPal|     Shipped|      5|\n",
      "|       1000596|      61173|         Manchester|       UK| 70|  Male|Medium|         Regular|2023-03-29|2023|    March| 3:02:21|              6|11.047317|     66.2839|      Home Decor|       Tools|       Standard|    Debit Card|   Delivered|      2|\n",
      "|       1000831|      96401|             Mackay|Australia| 20|  Male|   Low|             New|2003-01-23|2023|    March|20:40:26|              2| 58.49707|   116.99414|        Clothing|       Shirt|       Same-Day|   Credit Card|   Delivered|      1|\n",
      "|       1000920|      39799|          Frankfurt|  Germany| 22|  Male|Medium|         Regular|2023-04-16|2023|    April| 1:42:26|              5|46.615414|   233.07706|      Home Decor| Decorations|       Standard|   Credit Card|   Delivered|      1|\n",
      "|       1000986|      89655|            Toronto|   Canada| 36|  Male|  High|         Premium|2023-08-26|2023|   August| 7:40:46|              8|11.351654|    90.81323|     Electronics|  Television|       Same-Day|   Credit Card|  Processing|      5|\n",
      "|       1001000|      33717|       Philadelphia|      USA| 35|Female|  High|         Regular|2012-06-23|2023| December| 4:56:51|              4|196.59247|    786.3699|      Home Decor|   Furniture|       Same-Day|          Cash|   Delivered|      2|\n",
      "|       1001061|      82482|          Frankfurt|  Germany| 22|  Male|Medium|         Regular|2024-01-29|2024|  January|12:54:42|              6| 42.30735|    253.8441|           Books|  Children's|        Express|   Credit Card|   Delivered|      2|\n",
      "|       1001124|      26532|            Bristol|       UK| 26|  Male|   Low|         Regular|2023-10-19|2023|  January|12:11:46|              9|30.121069|   271.08963|     Electronics|      Fridge|       Same-Day|        PayPal|   Delivered|      4|\n",
      "|       1001126|      87037|          Frankfurt|  Germany| 24|Female|   Low|             New|2023-05-23|2023|      May|13:18:01|              9|41.272427|   371.45184|      Home Decor|     Kitchen|       Standard|    Debit Card|   Delivered|      1|\n",
      "|       1001176|      86614|           Edmonton|   Canada| 60|Female|  High|         Premium|2007-12-23|2023|     July|22:38:16|              9|397.16098|    3574.449|     Electronics|      Tablet|       Standard|        PayPal|     Pending|      5|\n",
      "|       1001602|      79403|             Boston|      USA| 23|  Male|  High|         Regular|2023-07-31|2023|     July|17:25:41|             10| 214.5452|    2145.452|     Electronics|      Tablet|        Express|          Cash|     Shipped|      4|\n",
      "|       1001637|      42502|            Chicago|      USA| 34|Female|   Low|             New|2007-10-23|2023|     July|17:26:27|              6|489.96204|   2939.7722|     Electronics|      Tablet|        Express|   Credit Card|   Delivered|      4|\n",
      "|       1001788|      27727|          Melbourne|Australia| 39|  Male|Medium|         Premium|2010-11-23|2023|      May|19:24:58|              7|131.40099|    919.8069|           Books| Non-Fiction|       Same-Day|        PayPal|     Shipped|      4|\n",
      "|       1002001|      96683|Newcastle upon Tyne|       UK| 20|  Male|  High|             New|2023-09-17|2023|September| 0:57:09|              9|264.93164|   2384.3848|           Books|     Fiction|       Standard|          Cash|     Pending|      1|\n",
      "|       1002717|      39198|         Portsmouth|       UK| 19|  Male|Medium|         Regular|2023-03-16|2023|    March| 6:19:06|              5|431.46738|    2157.337|      Home Decor|    Lighting|       Same-Day|        PayPal|   Delivered|      3|\n",
      "|       1003009|      25829|            Bendigo|Australia| 26|  Male|   Low|         Regular|2024-02-17|2024|  January| 0:53:03|              4|12.069369|   48.277477|     Electronics|      Fridge|       Standard|   Credit Card|   Delivered|      4|\n",
      "|       1003037|      49998|         Portsmouth|       UK| 21|Female|Medium|         Regular|2010-12-23|2023|  October|17:35:06|              9|128.80405|   1159.2363|           Books|  Literature|       Standard|          Cash|  Processing|      2|\n",
      "|       1003129|      69104|           Canberra|Australia| 34|Female|Medium|         Regular|2023-05-29|2023|      May|18:01:53|             10|384.14456|   3841.4456|         Grocery|       Water|       Same-Day|        PayPal|     Shipped|      3|\n",
      "|       1003285|      24195|            Windsor|   Canada| 26|  Male|   Low|         Regular|2023-05-29|2023|  January|20:24:55|              9|125.15536|   1126.3982|     Electronics|      Fridge|       Same-Day|   Credit Card|   Delivered|      3|\n",
      "+--------------+-----------+-------------------+---------+---+------+------+----------------+----------+----+---------+--------+---------------+---------+------------+----------------+------------+---------------+--------------+------------+-------+\n",
      "only showing top 20 rows\n",
      "\n"
     ]
    }
   ],
   "source": [
    "df.show()"
   ]
  },
  {
   "cell_type": "code",
   "execution_count": 29,
   "metadata": {},
   "outputs": [
    {
     "name": "stdout",
     "output_type": "stream",
     "text": [
      "+-------+-----------+---------------+--------+---------+\n",
      "|   Type|Total_Spend|Total_Purchases|Lifespan|      CLV|\n",
      "+-------+-----------+---------------+--------+---------+\n",
      "|Regular|    1997.33|             13|   22.62|  1147.89|\n",
      "|Regular|    2506.75|             23|   12.28|  4695.05|\n",
      "|Regular|    1014.54|              7|     0.0|     NULL|\n",
      "|Regular|    5194.43|             22|   10.83| 10551.94|\n",
      "|Regular|     7291.8|             30|    16.1|  13587.2|\n",
      "|Premium|    5157.83|             18|   21.86|  4247.07|\n",
      "|Regular|    9831.52|             33|   20.33| 15958.69|\n",
      "|    New|    2595.12|              7|     0.0|     NULL|\n",
      "|Regular|     5289.4|             13|   13.36|  5146.87|\n",
      "|Regular|     8172.4|             22|   17.17| 10471.33|\n",
      "|Regular|    3397.38|             12|    5.17|   7885.6|\n",
      "|Regular|     1742.4|             20|    0.93| 37470.97|\n",
      "|Regular|     642.28|              4|   10.39|   247.27|\n",
      "|Premium|    5897.23|             19|   19.76|  5670.41|\n",
      "|Regular|    8834.12|             30|   20.08| 13198.39|\n",
      "|Regular|    6067.29|             17|   20.59|  5009.42|\n",
      "|Regular|    4745.26|             15|    0.09|790876.67|\n",
      "|Regular|    9552.12|             30|   18.67| 15348.88|\n",
      "|Regular|   11438.27|             38|   16.32| 26633.23|\n",
      "|Regular|    2595.16|             11|    0.18|158593.11|\n",
      "+-------+-----------+---------------+--------+---------+\n",
      "only showing top 20 rows\n",
      "\n"
     ]
    }
   ],
   "source": [
    "dfGrouped = df.groupBy('Customer_ID').agg(F.max('Customer_Segment').alias('Type'), F.round(F.sum(\"Total_Amount\") ,2).alias(\"Total_Spend\"), F.sum(\"Total_Purchases\").alias(\"Total_Purchases\"), F.min(\"Date\").alias(\"First_Purchase_Date\"), F.max(\"Date\").alias(\"Last_Purchase_Date\"))\n",
    "lifeSpanDF = dfGrouped.withColumn('Lifespan', F.round(((F.datediff(F.col(\"Last_Purchase_Date\"), F.col(\"First_Purchase_Date\")))/365), 2))\n",
    "lifeSpanDF = lifeSpanDF.drop('First_Purchase_Date', 'Last_Purchase_Date', 'Customer_ID')\n",
    "clvDF = lifeSpanDF.withColumn('CLV', F.round(((F.col('Total_Purchases'))/(F.col('Lifespan')))*(F.col('Total_Spend')), 2))\n",
    "clvDF.show()"
   ]
  }
 ],
 "metadata": {
  "kernelspec": {
   "display_name": ".venv",
   "language": "python",
   "name": "python3"
  },
  "language_info": {
   "codemirror_mode": {
    "name": "ipython",
    "version": 3
   },
   "file_extension": ".py",
   "mimetype": "text/x-python",
   "name": "python",
   "nbconvert_exporter": "python",
   "pygments_lexer": "ipython3",
   "version": "3.12.3"
  }
 },
 "nbformat": 4,
 "nbformat_minor": 2
}
