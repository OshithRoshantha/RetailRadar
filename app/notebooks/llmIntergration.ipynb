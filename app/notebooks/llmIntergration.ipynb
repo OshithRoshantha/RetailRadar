{
 "cells": [
  {
   "cell_type": "code",
   "execution_count": 1,
   "metadata": {},
   "outputs": [],
   "source": [
    "import pandas as pd"
   ]
  },
  {
   "cell_type": "code",
   "execution_count": 2,
   "metadata": {},
   "outputs": [
    {
     "name": "stdout",
     "output_type": "stream",
     "text": [
      "  Transaction_ID Customer_ID        City    Country  Age  Gender  Income  \\\n",
      "0        1000073       15173  Portsmouth         UK   20    Male  Medium   \n",
      "1        1000503       20565   Cleveland        USA   23  Female     Low   \n",
      "2        1000601       94315     Belfast         UK   25  Female  Medium   \n",
      "3        1000828       30491     Chicago        USA   34    Male     Low   \n",
      "4        1000996       23923  Gold Coast  Australia   31  Female    High   \n",
      "\n",
      "  Customer_Segment        Date  Year  ...      Time Total_Purchases  \\\n",
      "0              New  2007-07-23  2023  ...   6:52:31               7   \n",
      "1          Premium  2023-07-17  2023  ...   1:58:18               2   \n",
      "2          Regular  2001-11-24  2024  ...   0:33:10               2   \n",
      "3              New  2006-12-23  2023  ...  22:58:01               2   \n",
      "4              New  2012-11-23  2023  ...   0:50:23               8   \n",
      "\n",
      "       Amount  Total_Amount  Product_Category Product_Type Shipping_Method  \\\n",
      "0  432.117340   3024.821289             Books  Non-Fiction        Same-Day   \n",
      "1  400.863098    801.726196        Home Decor  Decorations        Same-Day   \n",
      "2  107.706604    215.413208       Electronics   Smartphone         Express   \n",
      "3   46.192223     92.384445           Grocery   Soft Drink        Same-Day   \n",
      "4  253.487885   2027.903076        Home Decor  Decorations         Express   \n",
      "\n",
      "  Payment_Method Order_Status Ratings  \n",
      "0    Credit Card   Processing       1  \n",
      "1         PayPal   Processing       4  \n",
      "2     Debit Card   Processing       4  \n",
      "3         PayPal   Processing       4  \n",
      "4    Credit Card    Delivered       3  \n",
      "\n",
      "[5 rows x 21 columns]\n"
     ]
    }
   ],
   "source": [
    "source = pd.read_parquet('../../data/processed/cleanedData.parquet')\n",
    "print(source.head())"
   ]
  }
 ],
 "metadata": {
  "kernelspec": {
   "display_name": ".venv",
   "language": "python",
   "name": "python3"
  },
  "language_info": {
   "codemirror_mode": {
    "name": "ipython",
    "version": 3
   },
   "file_extension": ".py",
   "mimetype": "text/x-python",
   "name": "python",
   "nbconvert_exporter": "python",
   "pygments_lexer": "ipython3",
   "version": "3.12.3"
  }
 },
 "nbformat": 4,
 "nbformat_minor": 2
}
