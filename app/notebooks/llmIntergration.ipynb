{
 "cells": [
  {
   "cell_type": "code",
   "execution_count": null,
   "metadata": {},
   "outputs": [],
   "source": [
    "import pandas as pd\n",
    "import os\n",
    "from dotenv import load_dotenv\n",
    "from langchain.document_loaders import DataFrameLoader"
   ]
  },
  {
   "cell_type": "code",
   "execution_count": 5,
   "metadata": {},
   "outputs": [
    {
     "data": {
      "text/plain": [
       "True"
      ]
     },
     "execution_count": 5,
     "metadata": {},
     "output_type": "execute_result"
    }
   ],
   "source": [
    "load_dotenv()"
   ]
  },
  {
   "cell_type": "code",
   "execution_count": 9,
   "metadata": {},
   "outputs": [],
   "source": [
    "source = pd.read_parquet('../../data/processed/cleanedData.parquet')\n",
    "source['combinedText'] = (\n",
    "    \"City: \" + source[\"City\"] + \n",
    "    \" | Country: \" + source[\"Country\"] + \n",
    "    \" | Age: \" + source[\"Age\"].astype(str) + \n",
    "    \" | Gender: \" + source[\"Gender\"] + \n",
    "    \" | Income: \" + source[\"Income\"].astype(str) + \n",
    "    \" | Segment: \" + source[\"Customer_Segment\"] + \n",
    "    \" | Date: \" + source[\"Date\"].astype(str) + \n",
    "    \" | Purchases: \" + source[\"Total_Purchases\"].astype(str) + \n",
    "    \" | Amount: \" + source[\"Amount\"].astype(str) + \n",
    "    \" | Total Amount: \" + source[\"Total_Amount\"].astype(str) + \n",
    "    \" | Category: \" + source[\"Product_Category\"] + \n",
    "    \" | Type: \" + source[\"Product_Type\"] + \n",
    "    \" | Shipping: \" + source[\"Shipping_Method\"] + \n",
    "    \" | Payment: \" + source[\"Payment_Method\"]\n",
    ")"
   ]
  },
  {
   "cell_type": "code",
   "execution_count": 7,
   "metadata": {},
   "outputs": [],
   "source": [
    "KEY = os.getenv('API_KEY')"
   ]
  },
  {
   "cell_type": "code",
   "execution_count": null,
   "metadata": {},
   "outputs": [],
   "source": [
    "loader = DataFrameLoader(source, 'combinedText')"
   ]
  }
 ],
 "metadata": {
  "kernelspec": {
   "display_name": ".venv",
   "language": "python",
   "name": "python3"
  },
  "language_info": {
   "codemirror_mode": {
    "name": "ipython",
    "version": 3
   },
   "file_extension": ".py",
   "mimetype": "text/x-python",
   "name": "python",
   "nbconvert_exporter": "python",
   "pygments_lexer": "ipython3",
   "version": "3.12.3"
  }
 },
 "nbformat": 4,
 "nbformat_minor": 2
}
