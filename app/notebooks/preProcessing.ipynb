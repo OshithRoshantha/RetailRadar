{
 "cells": [
  {
   "cell_type": "code",
   "execution_count": 40,
   "metadata": {},
   "outputs": [],
   "source": [
    "from pyspark.sql import SparkSession\n",
    "from pyspark.sql.types import StructType, StructField, StringType, IntegerType, FloatType\n",
    "from pyspark.sql import functions as F\n",
    "from pyspark import StorageLevel"
   ]
  },
  {
   "cell_type": "code",
   "execution_count": 41,
   "metadata": {},
   "outputs": [],
   "source": [
    "spark = SparkSession.builder.appName('retailRadar').getOrCreate()\n",
    "spark.conf.set(\"spark.sql.legacy.timeParserPolicy\", \"LEGACY\")"
   ]
  },
  {
   "cell_type": "code",
   "execution_count": 42,
   "metadata": {},
   "outputs": [],
   "source": [
    "schema = StructType([\n",
    "    StructField(\"Transaction_ID\", StringType(), False),\n",
    "    StructField(\"Customer_ID\", StringType(), False),\n",
    "    StructField(\"Name\", StringType(), True),\n",
    "    StructField(\"Email\", StringType(), True),\n",
    "    StructField(\"Phone\", StringType(), True),\n",
    "    StructField(\"Address\", StringType(), True),\n",
    "    StructField(\"City\", StringType(), True),\n",
    "    StructField(\"State\", StringType(), True),\n",
    "    StructField(\"Zipcode\", StringType(), True),\n",
    "    StructField(\"Country\", StringType(), True),\n",
    "    StructField(\"Age\", IntegerType(), True),\n",
    "    StructField(\"Gender\", StringType(), True),\n",
    "    StructField(\"Income\", StringType(), True),\n",
    "    StructField(\"Customer_Segment\", StringType(), True),\n",
    "    StructField(\"Date\", StringType(), True),\n",
    "    StructField(\"Year\", IntegerType(), True),\n",
    "    StructField(\"Month\", StringType(), True),\n",
    "    StructField(\"Time\", StringType(), True),\n",
    "    StructField(\"Total_Purchases\", IntegerType(), True),\n",
    "    StructField(\"Amount\", FloatType(), True),\n",
    "    StructField(\"Total_Amount\", FloatType(), True),\n",
    "    StructField(\"Product_Category\", StringType(), True),\n",
    "    StructField(\"Product_Brand\", StringType(), True),\n",
    "    StructField(\"Product_Type\", StringType(), True),\n",
    "    StructField(\"Feedback\", StringType(), True),\n",
    "    StructField(\"Shipping_Method\", StringType(), True),\n",
    "    StructField(\"Payment_Method\", StringType(), True),\n",
    "    StructField(\"Order_Status\", StringType(), True),\n",
    "    StructField(\"Ratings\", IntegerType(), True),\n",
    "    StructField(\"products\", StringType(), True)\n",
    "])"
   ]
  },
  {
   "cell_type": "code",
   "execution_count": 43,
   "metadata": {},
   "outputs": [
    {
     "data": {
      "text/plain": [
       "DataFrame[Transaction_ID: string, Customer_ID: string, Name: string, Email: string, Phone: string, Address: string, City: string, State: string, Zipcode: string, Country: string, Age: int, Gender: string, Income: string, Customer_Segment: string, Date: string, Year: int, Month: string, Time: string, Total_Purchases: int, Amount: float, Total_Amount: float, Product_Category: string, Product_Brand: string, Product_Type: string, Feedback: string, Shipping_Method: string, Payment_Method: string, Order_Status: string, Ratings: int, products: string]"
      ]
     },
     "execution_count": 43,
     "metadata": {},
     "output_type": "execute_result"
    }
   ],
   "source": [
    "rawDf = spark.read.format(\"csv\").schema(schema).option(\"header\", True).option(\"inferSchema\", False).option(\"mode\", \"FAILFAST\").option(\"nullValue\", \"NA\").load('../../data/raw/retail_data.csv')\n",
    "rawDf.persist(StorageLevel.MEMORY_AND_DISK)"
   ]
  },
  {
   "cell_type": "code",
   "execution_count": 44,
   "metadata": {},
   "outputs": [],
   "source": [
    "df = rawDf.dropna()\n",
    "df = df.dropDuplicates(['Transaction_ID'])\n",
    "df = df.withColumn(\n",
    "    \"Date\",\n",
    "    F.coalesce(\n",
    "        F.to_date(F.col(\"Date\"), \"M/d/yyyy\"),   \n",
    "        F.to_date(F.col(\"Date\"), \"MM/dd/yyyy\"), \n",
    "        F.to_date(F.col(\"Date\"), \"yyyy-MM-dd\"),\n",
    "        F.to_date(F.col(\"Date\"), \"MM-dd-yy\")\n",
    "    )\n",
    ")\n",
    "df = df.withColumn(\n",
    "    \"Date\",\n",
    "    F.when(F.year(F.col(\"Date\")) < 1000,  \n",
    "           F.expr(\"add_months(Date, 12 * 2000)\")) \n",
    "    .otherwise(F.col(\"Date\"))\n",
    ")"
   ]
  },
  {
   "cell_type": "code",
   "execution_count": 45,
   "metadata": {},
   "outputs": [
    {
     "name": "stdout",
     "output_type": "stream",
     "text": [
      "+--------------+-----------+--------------------+--------------------+----------+--------------------+-----------+---------------+-------+---------+---+------+------+----------------+----------+----+--------+--------+---------------+----------+------------+----------------+-----------------+------------+---------+---------------+--------------+------------+-------+---------------+\n",
      "|Transaction_ID|Customer_ID|                Name|               Email|     Phone|             Address|       City|          State|Zipcode|  Country|Age|Gender|Income|Customer_Segment|      Date|Year|   Month|    Time|Total_Purchases|    Amount|Total_Amount|Product_Category|    Product_Brand|Product_Type| Feedback|Shipping_Method|Payment_Method|Order_Status|Ratings|       products|\n",
      "+--------------+-----------+--------------------+--------------------+----------+--------------------+-----------+---------------+-------+---------+---+------+------+----------------+----------+----+--------+--------+---------------+----------+------------+----------------+-----------------+------------+---------+---------------+--------------+------------+-------+---------------+\n",
      "|       1000073|      15173|       David Perkins|   Barry89@gmail.com|5004164930|92800 Alisha Station| Portsmouth|        England|   6081|       UK| 20|  Male|Medium|             New|2007-07-23|2023|    July| 6:52:31|              7| 432.11734|   3024.8213|           Books|     Random House| Non-Fiction|      Bad|       Same-Day|   Credit Card|  Processing|      1|        Cooking|\n",
      "|       1000503|      20565|      Monique Phelps|   Tammy15@gmail.com|7441356899| 233 Ramirez Squares|  Cleveland|   North Dakota|  58051|      USA| 23|Female|   Low|         Premium|2023-07-17|2023|     May| 1:58:18|              2|  400.8631|    801.7262|      Home Decor|             IKEA| Decorations|Excellent|       Same-Day|        PayPal|  Processing|      4|          Vases|\n",
      "|       1000601|      94315|   Madeline Townsend| Darrell29@gmail.com|9835724061|1842 Gilbert Expr...|    Belfast|        England|  78384|       UK| 25|Female|Medium|         Regular|2001-11-24|2024|   April| 0:33:10|              2|107.706604|   215.41321|     Electronics|          Samsung|  Smartphone|     Good|        Express|    Debit Card|  Processing|      4|      Xiaomi Mi|\n",
      "|       1000828|      30491|       Kristy Parker|  Tyrone59@gmail.com|2888499992|85911 Watkins Tur...|    Chicago|    Connecticut|  53588|      USA| 34|  Male|   Low|             New|2006-12-23|2023|    June|22:58:01|              2| 46.192223|   92.384445|         Grocery|            Pepsi|  Soft Drink|     Good|       Same-Day|        PayPal|  Processing|      4|     Ginger ale|\n",
      "|       1000996|      23923|        Sean Manning|Jennifer22@gmail.com|3857288827|      7165 Noah Rest| Gold Coast|New South Wales|  80599|Australia| 31|Female|  High|             New|2012-11-23|2023|December| 0:50:23|              8| 253.48788|   2027.9031|      Home Decor|       Home Depot| Decorations|     Good|        Express|   Credit Card|   Delivered|      3| Picture frames|\n",
      "|       1001065|      78524|       Matthew Perry|   Julie63@gmail.com|1806528263|     554 Smith Route| Fort Worth|     New Mexico|  16288|      USA| 19|Female|   Low|             New|2023-10-27|2023| October|12:58:47|              8|  89.06145|    712.4916|           Books|    Penguin Books|     Fiction|  Average|        Express|        PayPal|   Delivered|      2|        Romance|\n",
      "|       1001292|      12938|    Matthew Harrison|   James42@gmail.com|6946662362|  6567 Andrew Drives|    Belfast|        England|  81259|       UK| 68|  Male|   Low|         Regular|2024-01-31|2024|   April|20:57:26|              4|  497.3476|   1989.3904|     Electronics|             Sony|  Television|Excellent|        Express|    Debit Card|     Pending|      4|        OLED TV|\n",
      "|       1001488|      84694|Ms. Kelly Martine...|   April61@gmail.com|4723692426| 8905 Matthew Plains| Nottingham|        England|  70539|       UK| 46|  Male|Medium|             New|2023-12-31|2023|December| 2:18:51|              8| 107.49052|   859.92413|        Clothing|             Nike|     T-shirt|Excellent|        Express|        PayPal|  Processing|      4|    Graphic tee|\n",
      "|       1001528|      60275|        Sarah Rogers|Jennifer86@gmail.com|6799464903|5692 Christensen ...|   San Jose|     Washington|  98628|      USA| 20|  Male|   Low|         Premium|2023-08-31|2023|  August|10:25:46|              5| 363.22458|   1816.1228|      Home Decor|             IKEA|   Furniture|      Bad|       Standard|          Cash|     Pending|      1|            Bed|\n",
      "|       1001628|      82545|      Anthony Harris|   Sarah17@gmail.com|7127105456|51939 Davis Ridge...| Portsmouth|        England|  52913|       UK| 19|  Male|Medium|         Regular|2023-11-27|2023|November|10:30:04|             10| 60.834335|    608.3433|         Grocery|           Nestle|   Chocolate|  Average|       Standard|        PayPal|   Delivered|      2| Milk chocolate|\n",
      "|       1001673|      37363|        Dwayne Nixon|    Mark56@gmail.com|6318624638|17164 Daniel Squa...|     Boston|        Georgia|  78435|      USA| 23|  Male|  High|         Regular|2023-03-17|2023|   March| 4:09:36|              9| 324.65714|   2921.9143|        Clothing|             Zara|       Jeans|  Average|        Express|        PayPal|   Delivered|      2|   Skinny jeans|\n",
      "|       1001942|      53817|          Mark Davis|    Paul34@gmail.com|7026045016|56100 Hernandez Dale|     Ottawa|        Ontario|  49665|   Canada| 26|  Male|Medium|             New|2005-05-23|2023|November|17:27:17|             10| 293.30304|   2933.0303|           Books|    Penguin Books| Non-Fiction|     Good|       Same-Day|          Cash|   Delivered|      3|      Biography|\n",
      "|       1002110|      94811|   Veronica Robinson|   Emily46@gmail.com|1443673738|  81940 Davis Spring|    Chicago|    Connecticut|  36685|      USA| 34|  Male|Medium|         Premium|2023-03-20|2023|   March|10:22:42|              4| 316.47464|   1265.8986|         Grocery|            Pepsi|       Water|     Good|       Standard|          Cash|  Processing|      3| Alkaline water|\n",
      "|       1002192|      33918|         Jason Myers|   David62@gmail.com|9942689820|123 Jerry Throughway|Quebec City|        Ontario|  89970|   Canada| 26|  Male|  High|         Regular|2012-11-23|2023| January|16:34:06|              2| 415.52167|   831.04333|     Electronics|        Whirepool|      Fridge|     Good|       Same-Day|          Cash|   Delivered|      3|    Mini fridge|\n",
      "|       1002209|      27147|           Eric Gill|    Aaron1@gmail.com|1632986763|16929 Roberts Cir...|    Cardiff|        England|  68124|       UK| 40|  Male|Medium|             New|2006-01-23|2023|   April|12:04:27|              9| 439.63516|   3956.7166|      Home Decor|Bed Bath & Beyond|     Kitchen|     Good|       Standard|    Debit Card|     Shipped|      4|   Coffee maker|\n",
      "|       1002458|      22578|      Melissa Wilson|  Robert64@gmail.com|7173955301|9280 Mccarty Pass...| Gold Coast|New South Wales|  56412|Australia| 20|  Male|Medium|         Regular|2023-03-24|2023|   March| 9:18:45|              6|  263.7503|   1582.5017|        Clothing|             Nike|       Shoes|      Bad|       Same-Day|        PayPal|     Pending|      1|        Sandals|\n",
      "|       1002559|      78800|       Michael Perry|Jacqueline71@gmai...|5554993178|   270 Phelps Circle|     Hobart|New South Wales|  99217|Australia| 26|Female|  High|         Premium|2023-04-25|2023|   April| 3:30:11|              4| 118.24428|    472.9771|        Clothing|             Nike|     T-shirt|     Good|        Express|    Debit Card|   Delivered|      4|     V-neck tee|\n",
      "|       1002664|      12807|  Michael Richardson| Jessica54@gmail.com|4289285682|1020 Robert Exten...|    Windsor|        Ontario|  12175|   Canada| 56|Female|Medium|         Regular|2023-09-20|2023|    July|11:52:35|              7|  70.05996|    490.4197|         Grocery|            Pepsi|       Water|      Bad|       Standard|          Cash|  Processing|      1|  Coconut water|\n",
      "|       1002701|      67372|Mrs. Lorraine Buc...|    Carla1@gmail.com|8215444400|480 Valdez Freewa...|    Münster|         Berlin|  29487|  Germany| 46|  Male|   Low|         Premium|2002-11-24|2024|February| 3:12:11|              3| 11.506203|    34.51861|        Clothing|           Adidas|       Shoes|Excellent|        Express|          Cash|   Delivered|      5|     High heels|\n",
      "|       1003001|      93297|      Traci Williams| Matthew38@gmail.com|8529439614|   356 Smith Valleys|  Frankfurt|         Berlin|   8627|  Germany| 22|  Male|Medium|         Regular|2010-10-23|2023| October|22:48:10|              8| 214.30267|   1714.4214|         Grocery|        Coca-Cola|  Soft Drink|     Good|       Same-Day|    Debit Card|   Delivered|      4|Lemon-lime soda|\n",
      "+--------------+-----------+--------------------+--------------------+----------+--------------------+-----------+---------------+-------+---------+---+------+------+----------------+----------+----+--------+--------+---------------+----------+------------+----------------+-----------------+------------+---------+---------------+--------------+------------+-------+---------------+\n",
      "only showing top 20 rows\n",
      "\n"
     ]
    }
   ],
   "source": [
    "df.show()"
   ]
  }
 ],
 "metadata": {
  "kernelspec": {
   "display_name": ".venv",
   "language": "python",
   "name": "python3"
  },
  "language_info": {
   "codemirror_mode": {
    "name": "ipython",
    "version": 3
   },
   "file_extension": ".py",
   "mimetype": "text/x-python",
   "name": "python",
   "nbconvert_exporter": "python",
   "pygments_lexer": "ipython3",
   "version": "3.12.3"
  }
 },
 "nbformat": 4,
 "nbformat_minor": 2
}
