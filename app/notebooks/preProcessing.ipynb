{
 "cells": [
  {
   "cell_type": "code",
   "execution_count": 2,
   "metadata": {},
   "outputs": [],
   "source": [
    "from pyspark.sql import SparkSession\n",
    "from pyspark.sql.types import StructType, StructField, StringType, IntegerType, FloatType\n",
    "from pyspark.sql import functions as F\n",
    "from pyspark import StorageLevel"
   ]
  },
  {
   "cell_type": "code",
   "execution_count": 3,
   "metadata": {},
   "outputs": [],
   "source": [
    "spark = SparkSession.builder.appName('retailRadar').getOrCreate()\n",
    "spark.conf.set(\"spark.sql.legacy.timeParserPolicy\", \"LEGACY\")"
   ]
  },
  {
   "cell_type": "code",
   "execution_count": 4,
   "metadata": {},
   "outputs": [],
   "source": [
    "schema = StructType([\n",
    "    StructField(\"Transaction_ID\", StringType(), False),\n",
    "    StructField(\"Customer_ID\", StringType(), False),\n",
    "    StructField(\"Name\", StringType(), True),\n",
    "    StructField(\"Email\", StringType(), True),\n",
    "    StructField(\"Phone\", StringType(), True),\n",
    "    StructField(\"Address\", StringType(), True),\n",
    "    StructField(\"City\", StringType(), True),\n",
    "    StructField(\"State\", StringType(), True),\n",
    "    StructField(\"Zipcode\", StringType(), True),\n",
    "    StructField(\"Country\", StringType(), True),\n",
    "    StructField(\"Age\", IntegerType(), True),\n",
    "    StructField(\"Gender\", StringType(), True),\n",
    "    StructField(\"Income\", StringType(), True),\n",
    "    StructField(\"Customer_Segment\", StringType(), True),\n",
    "    StructField(\"Date\", StringType(), True),\n",
    "    StructField(\"Year\", IntegerType(), True),\n",
    "    StructField(\"Month\", StringType(), True),\n",
    "    StructField(\"Time\", StringType(), True),\n",
    "    StructField(\"Total_Purchases\", IntegerType(), True),\n",
    "    StructField(\"Amount\", FloatType(), True),\n",
    "    StructField(\"Total_Amount\", FloatType(), True),\n",
    "    StructField(\"Product_Category\", StringType(), True),\n",
    "    StructField(\"Product_Brand\", StringType(), True),\n",
    "    StructField(\"Product_Type\", StringType(), True),\n",
    "    StructField(\"Feedback\", StringType(), True),\n",
    "    StructField(\"Shipping_Method\", StringType(), True),\n",
    "    StructField(\"Payment_Method\", StringType(), True),\n",
    "    StructField(\"Order_Status\", StringType(), True),\n",
    "    StructField(\"Ratings\", IntegerType(), True),\n",
    "    StructField(\"products\", StringType(), True)\n",
    "])"
   ]
  },
  {
   "cell_type": "code",
   "execution_count": 5,
   "metadata": {},
   "outputs": [
    {
     "data": {
      "text/plain": [
       "DataFrame[Transaction_ID: string, Customer_ID: string, Name: string, Email: string, Phone: string, Address: string, City: string, State: string, Zipcode: string, Country: string, Age: int, Gender: string, Income: string, Customer_Segment: string, Date: string, Year: int, Month: string, Time: string, Total_Purchases: int, Amount: float, Total_Amount: float, Product_Category: string, Product_Brand: string, Product_Type: string, Feedback: string, Shipping_Method: string, Payment_Method: string, Order_Status: string, Ratings: int, products: string]"
      ]
     },
     "execution_count": 5,
     "metadata": {},
     "output_type": "execute_result"
    }
   ],
   "source": [
    "rawDf = spark.read.format(\"csv\").schema(schema).option(\"header\", True).option(\"inferSchema\", False).option(\"mode\", \"FAILFAST\").option(\"nullValue\", \"NA\").load('../../data/raw/retail_data.csv')\n",
    "rawDf.persist(StorageLevel.MEMORY_AND_DISK)"
   ]
  },
  {
   "cell_type": "code",
   "execution_count": 6,
   "metadata": {},
   "outputs": [
    {
     "data": {
      "text/plain": [
       "DataFrame[Transaction_ID: string, Customer_ID: string, Name: string, Email: string, Phone: string, Address: string, City: string, State: string, Zipcode: string, Country: string, Age: int, Gender: string, Income: string, Customer_Segment: string, Date: date, Year: int, Month: string, Time: string, Total_Purchases: int, Amount: float, Total_Amount: float, Product_Category: string, Product_Brand: string, Product_Type: string, Feedback: string, Shipping_Method: string, Payment_Method: string, Order_Status: string, Ratings: int, products: string]"
      ]
     },
     "execution_count": 6,
     "metadata": {},
     "output_type": "execute_result"
    }
   ],
   "source": [
    "df = rawDf.dropna()\n",
    "df = df.dropDuplicates(['Transaction_ID'])\n",
    "df = df.withColumn(\n",
    "    \"Date\",\n",
    "    F.coalesce(\n",
    "        F.to_date(F.col(\"Date\"), \"M/d/yyyy\"),   \n",
    "        F.to_date(F.col(\"Date\"), \"MM/dd/yyyy\"), \n",
    "        F.to_date(F.col(\"Date\"), \"yyyy-MM-dd\"),\n",
    "        F.to_date(F.col(\"Date\"), \"MM-dd-yy\")\n",
    "    )\n",
    ")\n",
    "df = df.withColumn(\n",
    "    \"Date\",\n",
    "    F.when(F.year(F.col(\"Date\")) < 1000,  \n",
    "           F.expr(\"add_months(Date, 12 * 2000)\")) \n",
    "    .otherwise(F.col(\"Date\"))\n",
    ")\n",
    "df.cache()"
   ]
  },
  {
   "cell_type": "code",
   "execution_count": null,
   "metadata": {},
   "outputs": [
    {
     "name": "stdout",
     "output_type": "stream",
     "text": [
      "+------+-----+\n",
      "|Gender|count|\n",
      "+------+-----+\n",
      "|Female|32591|\n",
      "|  Male|53689|\n",
      "+------+-----+\n",
      "\n",
      "+---------+-----+\n",
      "|age_group|count|\n",
      "+---------+-----+\n",
      "|    30-39|12442|\n",
      "|    20-29|35918|\n",
      "|      60+| 8025|\n",
      "|    40-49|16025|\n",
      "| Under 20| 5698|\n",
      "|    50-59| 8172|\n",
      "+---------+-----+\n",
      "\n",
      "+------+-----+\n",
      "|Income|count|\n",
      "+------+-----+\n",
      "|  High|21412|\n",
      "|   Low|27529|\n",
      "|Medium|37339|\n",
      "+------+-----+\n",
      "\n"
     ]
    }
   ],
   "source": [
    "uniqueCustomers = df.dropDuplicates(['Customer_ID'])\n",
    "uniqueCustomers.cache()\n",
    "\n",
    "genderDistribution = uniqueCustomers.groupBy(\"Gender\").count()\n",
    "genderDistribution.show()\n",
    "\n",
    "ageGroupDf = uniqueCustomers.withColumn(\n",
    "    'age_group',\n",
    "    F.when(df['age'] < 20, 'Under 20')\n",
    "    .when((df['age'] >= 20) & (df['age'] < 30), '20-29')\n",
    "    .when((df['age'] >= 30) & (df['age'] < 40), '30-39')\n",
    "    .when((df['age'] >= 40) & (df['age'] < 50), '40-49')\n",
    "    .when((df['age'] >= 50) & (df['age'] < 60), '50-59')\n",
    "    .when(df['age'] >= 60, '60+')\n",
    "    .otherwise('Unknown')\n",
    ")\n",
    "ageGrouped = ageGroupDf.groupBy('age_group').count()\n",
    "ageGrouped.show()\n",
    "\n",
    "incomeDistribution = uniqueCustomers.groupBy(\"Income\").count()\n",
    "incomeDistribution.show()"
   ]
  },
  {
   "cell_type": "code",
   "execution_count": 10,
   "metadata": {},
   "outputs": [
    {
     "name": "stdout",
     "output_type": "stream",
     "text": [
      "+----------------+--------------------+\n",
      "|Customer_Segment|       Total_Revenue|\n",
      "+----------------+--------------------+\n",
      "|         Regular|1.9152795218494225E8|\n",
      "|             New|1.1851570415899372E8|\n",
      "|         Premium| 8.265496153085995E7|\n",
      "+----------------+--------------------+\n",
      "\n"
     ]
    }
   ],
   "source": [
    "topSegmentsByRevenue = df.groupBy(\"Customer_Segment\").agg(F.sum(\"Total_Amount\").alias(\"Total_Revenue\")).orderBy(F.desc(\"Total_Revenue\"))\n",
    "topSegmentsByRevenue.show()"
   ]
  }
 ],
 "metadata": {
  "kernelspec": {
   "display_name": ".venv",
   "language": "python",
   "name": "python3"
  },
  "language_info": {
   "codemirror_mode": {
    "name": "ipython",
    "version": 3
   },
   "file_extension": ".py",
   "mimetype": "text/x-python",
   "name": "python",
   "nbconvert_exporter": "python",
   "pygments_lexer": "ipython3",
   "version": "3.12.3"
  }
 },
 "nbformat": 4,
 "nbformat_minor": 2
}
