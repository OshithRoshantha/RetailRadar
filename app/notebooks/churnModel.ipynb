{
 "cells": [
  {
   "cell_type": "code",
   "execution_count": 22,
   "metadata": {},
   "outputs": [],
   "source": [
    "from pyspark.sql import SparkSession\n",
    "import pandas as pd\n",
    "from pyspark.sql import functions as F\n",
    "from pyspark.sql.window import Window"
   ]
  },
  {
   "cell_type": "code",
   "execution_count": 23,
   "metadata": {},
   "outputs": [],
   "source": [
    "spark = SparkSession.builder.appName('Insights').getOrCreate()"
   ]
  },
  {
   "cell_type": "code",
   "execution_count": 32,
   "metadata": {},
   "outputs": [],
   "source": [
    "df = spark.read.parquet(\"../../data/processed/cleanedData.parquet\")"
   ]
  },
  {
   "cell_type": "code",
   "execution_count": 45,
   "metadata": {},
   "outputs": [],
   "source": [
    "dfGrouped = df.groupBy(\"Customer_ID\").agg(\n",
    "    F.array_sort(F.collect_list(\"Date\")).alias(\"Purchase_Dates\"),\n",
    "    F.round(F.sum(\"Total_Amount\") ,2).alias(\"Total_Spend\"),\n",
    "    F.sum(\"Total_Purchases\").alias(\"Total_Purchases\")\n",
    ")\n",
    "dfGrouped = dfGrouped.withColumn(\"Last_Purchase\", F.element_at(F.col(\"Purchase_Dates\"), -1)) \\\n",
    "                     .withColumn(\"Second_Last_Purchase\", F.when(F.size(F.col(\"Purchase_Dates\")) > 1, \n",
    "                                                                F.element_at(F.col(\"Purchase_Dates\"), -2)))\n",
    "\n",
    "dfGrouped = dfGrouped.withColumn(\"Recency\", \n",
    "                                 F.when(F.col(\"Second_Last_Purchase\").isNull(), 0)\n",
    "                                  .otherwise(F.datediff(F.col(\"Last_Purchase\"), F.col(\"Second_Last_Purchase\"))))\n",
    "dfGrouped = dfGrouped.drop('Purchase_Dates')\n",
    "dfGrouped = dfGrouped.where(F.col('Recency')>0)\n",
    "latestDate = df.select(F.max('Date')).collect()[0][0]\n",
    "churnDf = dfGrouped.withColumn(\n",
    "    \"Churn\", \n",
    "    F.when(F.datediff(F.lit(latestDate), F.col(\"Last_Purchase\")) > 90, 1).otherwise(0)\n",
    ")\n",
    "churnDf = churnDf.withColumn('Avg_Order_Value', F.round(F.col('Total_Spend') / F.col('Total_Purchases'), 2))\n",
    "churnDf = churnDf.drop('Last_Purchase', 'Second_Last_Purchase')\n",
    "churnDf.write.parquet('data/processed/temp/churnData.parquet', mode='overwrite')\n"
   ]
  },
  {
   "cell_type": "code",
   "execution_count": null,
   "metadata": {},
   "outputs": [],
   "source": []
  }
 ],
 "metadata": {
  "kernelspec": {
   "display_name": ".venv",
   "language": "python",
   "name": "python3"
  },
  "language_info": {
   "codemirror_mode": {
    "name": "ipython",
    "version": 3
   },
   "file_extension": ".py",
   "mimetype": "text/x-python",
   "name": "python",
   "nbconvert_exporter": "python",
   "pygments_lexer": "ipython3",
   "version": "3.12.3"
  }
 },
 "nbformat": 4,
 "nbformat_minor": 2
}
