{
 "cells": [
  {
   "cell_type": "code",
   "execution_count": 22,
   "metadata": {},
   "outputs": [],
   "source": [
    "from pyspark.sql import SparkSession\n",
    "import pandas as pd\n",
    "from pyspark.sql import functions as F\n",
    "from pyspark.sql.window import Window"
   ]
  },
  {
   "cell_type": "code",
   "execution_count": 23,
   "metadata": {},
   "outputs": [],
   "source": [
    "spark = SparkSession.builder.appName('Insights').getOrCreate()"
   ]
  },
  {
   "cell_type": "code",
   "execution_count": 32,
   "metadata": {},
   "outputs": [],
   "source": [
    "df = spark.read.parquet(\"../../data/processed/cleanedData.parquet\")"
   ]
  },
  {
   "cell_type": "code",
   "execution_count": 37,
   "metadata": {},
   "outputs": [
    {
     "name": "stdout",
     "output_type": "stream",
     "text": [
      "+-----------+------------------+---------------+-------+-----+------------------+\n",
      "|Customer_ID|       Total_Spend|Total_Purchases|Recency|Churn|   Avg_Order_Value|\n",
      "+-----------+------------------+---------------+-------+-----+------------------+\n",
      "|      10009| 1997.331699371338|             13|     38|    1| 153.6408999516414|\n",
      "|      10038|5194.4332275390625|             22|     93|    1|236.11060125177556|\n",
      "|      10039| 7291.798248291016|             30|     26|    1|243.05994160970053|\n",
      "|      10052| 5157.825927734375|             18|     40|    1|286.54588487413196|\n",
      "|      10058| 9831.523986816406|             33|     79|    0| 297.9249692974669|\n",
      "|      10077| 5289.398422241211|             13|     37|    1|406.87680171086237|\n",
      "|      10088|8172.3985595703125|             22|     60|    0|371.47266179865056|\n",
      "|      10096|3397.3778076171875|             12|   1886|    1| 283.1148173014323|\n",
      "|      10104|1742.4009552001953|             20|     37|    0| 87.12004776000977|\n",
      "|      10110| 642.2783660888672|              4|   3793|    1| 160.5695915222168|\n",
      "|      10128| 8834.121337890625|             30|      1|    1|294.47071126302086|\n",
      "|      10133| 6067.289268493652|             17|     54|    0| 356.8993687349207|\n",
      "|      10138|  4745.25732421875|             15|     32|    1|   316.35048828125|\n",
      "|      10145| 9552.115097045898|             30|     68|    1| 318.4038365681966|\n",
      "|      10150|11438.266357421875|             38|     25|    1| 301.0070094058388|\n",
      "|      10152|2595.1627197265625|             11|     67|    0| 235.9238836115057|\n",
      "|      10169| 8189.198303222656|             35|     32|    0|233.97709437779017|\n",
      "|      10177|3356.9190368652344|             17|   4255|    1|197.46582569795495|\n",
      "|      10178| 6468.332366943359|             36|    248|    0|179.67589908175998|\n",
      "|      10179| 6225.850524902344|             25|    184|    0|249.03402099609374|\n",
      "+-----------+------------------+---------------+-------+-----+------------------+\n",
      "only showing top 20 rows\n",
      "\n"
     ]
    }
   ],
   "source": [
    "dfGrouped = df.groupBy(\"Customer_ID\").agg(\n",
    "    F.array_sort(F.collect_list(\"Date\")).alias(\"Purchase_Dates\"),\n",
    "    F.sum(\"Total_Amount\").alias(\"Total_Spend\"),\n",
    "    F.sum(\"Total_Purchases\").alias(\"Total_Purchases\")\n",
    ")\n",
    "dfGrouped = dfGrouped.withColumn(\"Last_Purchase\", F.element_at(F.col(\"Purchase_Dates\"), -1)) \\\n",
    "                     .withColumn(\"Second_Last_Purchase\", F.when(F.size(F.col(\"Purchase_Dates\")) > 1, \n",
    "                                                                F.element_at(F.col(\"Purchase_Dates\"), -2)))\n",
    "\n",
    "dfGrouped = dfGrouped.withColumn(\"Recency\", \n",
    "                                 F.when(F.col(\"Second_Last_Purchase\").isNull(), 0)\n",
    "                                  .otherwise(F.datediff(F.col(\"Last_Purchase\"), F.col(\"Second_Last_Purchase\"))))\n",
    "dfGrouped = dfGrouped.drop('Purchase_Dates')\n",
    "dfGrouped = dfGrouped.where(F.col('Recency')>0)\n",
    "latestDate = df.select(F.max('Date')).collect()[0][0]\n",
    "churnDf = dfGrouped.withColumn(\n",
    "    \"Churn\", \n",
    "    F.when(F.datediff(F.lit(latestDate), F.col(\"Last_Purchase\")) > 90, 1).otherwise(0)\n",
    ")\n",
    "churnDf = churnDf.withColumn('Avg_Order_Value', F.col('Total_Spend') / F.col('Total_Purchases'))\n",
    "churnDf = churnDf.drop('Last_Purchase', 'Second_Last_Purchase')\n",
    "churnDf.show()\n"
   ]
  },
  {
   "cell_type": "code",
   "execution_count": 16,
   "metadata": {},
   "outputs": [
    {
     "name": "stdout",
     "output_type": "stream",
     "text": [
      "2024-02-29\n",
      "+-----------+-------------+------------------+---------------+-----+\n",
      "|Customer_ID|Last_Purchase|       Total_Spend|Total_Purchases|Churn|\n",
      "+-----------+-------------+------------------+---------------+-----+\n",
      "|      39352|   2001-01-24| 1880.511474609375|              7|    1|\n",
      "|      80322|   2001-01-24|1512.3026123046875|              6|    1|\n",
      "|      87823|   2001-01-24| 2405.681884765625|              9|    1|\n",
      "|      37647|   2001-01-24|    2394.283203125|              7|    1|\n",
      "|      12437|   2001-01-24| 683.1224365234375|              2|    1|\n",
      "|      42443|   2001-01-24|45.104061126708984|              3|    1|\n",
      "|      79528|   2001-01-24| 89.44783020019531|              1|    1|\n",
      "|      79613|   2001-01-24| 808.9075927734375|              3|    1|\n",
      "|      31899|   2001-01-24|     3433.47265625|             10|    1|\n",
      "|      38168|   2001-01-24| 2099.823486328125|              5|    1|\n",
      "|      42888|   2001-01-24|   1847.8388671875|              6|    1|\n",
      "|      62773|   2001-01-24| 65.14421844482422|              1|    1|\n",
      "|      87981|   2001-01-24| 421.9295959472656|              3|    1|\n",
      "|      63407|   2001-01-24|292.12188720703125|              5|    1|\n",
      "|      15645|   2001-01-24| 890.0645751953125|              3|    1|\n",
      "|      97667|   2001-01-24|1471.4827880859375|              7|    1|\n",
      "|      43132|   2001-01-24| 858.3656005859375|              4|    1|\n",
      "|      50024|   2001-01-24|  1322.13330078125|              3|    1|\n",
      "|      36447|   2001-01-24|     4290.79296875|              9|    1|\n",
      "|      76684|   2001-01-24| 679.3027954101562|              5|    1|\n",
      "+-----------+-------------+------------------+---------------+-----+\n",
      "only showing top 20 rows\n",
      "\n"
     ]
    }
   ],
   "source": [
    "#Customer is Churned if no purchase in last 3 months\n",
    "customerLastPurchase = df.groupBy('Customer_ID').agg(F.max(F.col('Date')).alias('Last_Purchase'), F.sum(F.col('Total_Amount')).alias('Total_Spend'), F.sum(F.col('Total_Purchases')).alias('Total_Purchases')).orderBy('Last_Purchase')\n",
    "latestDate = customerLastPurchase.select(F.max('Last_Purchase')).collect()[0][0]\n",
    "print(latestDate)\n",
    "churnDf = customerLastPurchase.withColumn(\n",
    "    \"Churn\", \n",
    "    F.when(F.datediff(F.lit(latestDate), F.col(\"Last_Purchase\")) > 90, 1).otherwise(0)\n",
    ")\n",
    "churnDf.show()"
   ]
  }
 ],
 "metadata": {
  "kernelspec": {
   "display_name": ".venv",
   "language": "python",
   "name": "python3"
  },
  "language_info": {
   "codemirror_mode": {
    "name": "ipython",
    "version": 3
   },
   "file_extension": ".py",
   "mimetype": "text/x-python",
   "name": "python",
   "nbconvert_exporter": "python",
   "pygments_lexer": "ipython3",
   "version": "3.12.3"
  }
 },
 "nbformat": 4,
 "nbformat_minor": 2
}
