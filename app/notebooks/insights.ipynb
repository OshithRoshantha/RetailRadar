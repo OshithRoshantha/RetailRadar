{
 "cells": [
  {
   "cell_type": "code",
   "execution_count": 4,
   "metadata": {},
   "outputs": [],
   "source": [
    "from pyspark.sql import SparkSession\n",
    "import pyspark.sql.functions as F"
   ]
  },
  {
   "cell_type": "code",
   "execution_count": 5,
   "metadata": {},
   "outputs": [],
   "source": [
    "spark = SparkSession.builder.appName('Insights').getOrCreate()"
   ]
  },
  {
   "cell_type": "code",
   "execution_count": null,
   "metadata": {},
   "outputs": [
    {
     "name": "stdout",
     "output_type": "stream",
     "text": [
      "+--------------------+\n",
      "|        combinedData|\n",
      "+--------------------+\n",
      "|City: Fort Worth ...|\n",
      "|City: Bendigo | C...|\n",
      "|City: Manchester ...|\n",
      "|City: Mackay | Co...|\n",
      "|City: Frankfurt |...|\n",
      "|City: Toronto | C...|\n",
      "|City: Philadelphi...|\n",
      "|City: Frankfurt |...|\n",
      "|City: Bristol | C...|\n",
      "|City: Frankfurt |...|\n",
      "|City: Edmonton | ...|\n",
      "|City: Boston | Co...|\n",
      "|City: Chicago | C...|\n",
      "|City: Melbourne |...|\n",
      "|City: Newcastle u...|\n",
      "|City: Portsmouth ...|\n",
      "|City: Bendigo | C...|\n",
      "|City: Portsmouth ...|\n",
      "|City: Canberra | ...|\n",
      "|City: Windsor | C...|\n",
      "+--------------------+\n",
      "only showing top 20 rows\n",
      "\n"
     ]
    }
   ],
   "source": [
    "df = spark.read.parquet(\"../../data/processed/cleanedData.parquet\")\n",
    "\n",
    "df.show()"
   ]
  },
  {
   "cell_type": "code",
   "execution_count": 4,
   "metadata": {},
   "outputs": [
    {
     "name": "stdout",
     "output_type": "stream",
     "text": [
      "+------------+------+\n",
      "|Order_Status| count|\n",
      "+------------+------+\n",
      "|     Shipped| 61602|\n",
      "|  Processing| 54157|\n",
      "|   Delivered|124929|\n",
      "|     Pending| 46317|\n",
      "+------------+------+\n",
      "\n"
     ]
    }
   ],
   "source": [
    "df = df.groupBy('Order_Status').count()\n",
    "df.show()"
   ]
  }
 ],
 "metadata": {
  "kernelspec": {
   "display_name": ".venv",
   "language": "python",
   "name": "python3"
  },
  "language_info": {
   "codemirror_mode": {
    "name": "ipython",
    "version": 3
   },
   "file_extension": ".py",
   "mimetype": "text/x-python",
   "name": "python",
   "nbconvert_exporter": "python",
   "pygments_lexer": "ipython3",
   "version": "3.12.3"
  }
 },
 "nbformat": 4,
 "nbformat_minor": 2
}
